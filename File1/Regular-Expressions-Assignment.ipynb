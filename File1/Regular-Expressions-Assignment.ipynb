{
 "cells": [
  {
   "cell_type": "code",
   "execution_count": 561,
   "id": "82d83f31",
   "metadata": {},
   "outputs": [
    {
     "data": {
      "text/plain": [
       "'Python:Exercises::PHP:exercises:'"
      ]
     },
     "execution_count": 561,
     "metadata": {},
     "output_type": "execute_result"
    }
   ],
   "source": [
    "#Q1. ANS-\n",
    "import re\n",
    "Text='Python Exercises, PHP exercises.'\n",
    "P=re.sub('[ ,.]', ':', Text)\n",
    "P"
   ]
  },
  {
   "cell_type": "code",
   "execution_count": 563,
   "id": "3f8a6766",
   "metadata": {},
   "outputs": [
    {
     "data": {
      "text/html": [
       "<div>\n",
       "<style scoped>\n",
       "    .dataframe tbody tr th:only-of-type {\n",
       "        vertical-align: middle;\n",
       "    }\n",
       "\n",
       "    .dataframe tbody tr th {\n",
       "        vertical-align: top;\n",
       "    }\n",
       "\n",
       "    .dataframe thead th {\n",
       "        text-align: right;\n",
       "    }\n",
       "</style>\n",
       "<table border=\"1\" class=\"dataframe\">\n",
       "  <thead>\n",
       "    <tr style=\"text-align: right;\">\n",
       "      <th></th>\n",
       "      <th>SUMMARY</th>\n",
       "    </tr>\n",
       "  </thead>\n",
       "  <tbody>\n",
       "    <tr>\n",
       "      <th>0</th>\n",
       "      <td>hello world</td>\n",
       "    </tr>\n",
       "    <tr>\n",
       "      <th>1</th>\n",
       "      <td>test</td>\n",
       "    </tr>\n",
       "    <tr>\n",
       "      <th>2</th>\n",
       "      <td>four five six</td>\n",
       "    </tr>\n",
       "  </tbody>\n",
       "</table>\n",
       "</div>"
      ],
      "text/plain": [
       "         SUMMARY\n",
       "0    hello world\n",
       "1           test\n",
       "2  four five six"
      ]
     },
     "execution_count": 563,
     "metadata": {},
     "output_type": "execute_result"
    }
   ],
   "source": [
    "#Q2. ANS-\n",
    "import pandas as pd\n",
    "import re\n",
    "Text1= {'SUMMARY' : ['hello, world!', 'XXXXX test', '123four, five:; six...']}\n",
    "PS=pd.DataFrame(Text1)\n",
    "PS['SUMMARY']= PS['SUMMARY'].str.replace('[^a-zA-Z\\s]+|XXXXX', '', regex=True)\n",
    "PS"
   ]
  },
  {
   "cell_type": "code",
   "execution_count": 133,
   "id": "106cbc68",
   "metadata": {},
   "outputs": [
    {
     "data": {
      "text/plain": [
       "['CSMT',\n",
       " 'cons',\n",
       " 'truc',\n",
       " 'usin',\n",
       " 'high',\n",
       " 'leve',\n",
       " 'engi',\n",
       " 'neer',\n",
       " 'both',\n",
       " 'term',\n",
       " 'rail',\n",
       " 'civi',\n",
       " 'engi',\n",
       " 'neer']"
      ]
     },
     "execution_count": 133,
     "metadata": {},
     "output_type": "execute_result"
    }
   ],
   "source": [
    "#Q3. ANS-\n",
    "import re\n",
    "Text2='The CSMT was constructed using a high level of engineering both in terms of railway and civil engineering.'\n",
    "pattern=r'\\w{4}'\n",
    "PS=re.compile(pattern)\n",
    "SH=PS.findall(Text2)\n",
    "SH"
   ]
  },
  {
   "cell_type": "code",
   "execution_count": 545,
   "id": "1a4c2885",
   "metadata": {},
   "outputs": [
    {
     "data": {
      "text/plain": [
       "['The', 'Tata', 'Group', 'India', 'multi', 'congl', 'headq', 'Mumba']"
      ]
     },
     "execution_count": 545,
     "metadata": {},
     "output_type": "execute_result"
    }
   ],
   "source": [
    "#Q4. ANS-\n",
    "Text3='The Tata Group is an Indian multinational conglomerate headquartered in Mumbai.'\n",
    "pattern1=r'\\b\\w{3,5}'\n",
    "PSS=re.compile(pattern1)\n",
    "SHH=PSS.findall(Text3)\n",
    "SHH"
   ]
  },
  {
   "cell_type": "code",
   "execution_count": 560,
   "id": "eed41f98",
   "metadata": {},
   "outputs": [
    {
     "data": {
      "text/plain": [
       "'[\"example (.com)\", \"hr@fliprobo (.com)\", \"github (.com)\", \"Hello (Data Science World)\", \"Data (Scientist)\"]'"
      ]
     },
     "execution_count": 560,
     "metadata": {},
     "output_type": "execute_result"
    }
   ],
   "source": [
    "#Q5. ANS-\n",
    "Sample='[\"example (.com)\", \"hr@fliprobo (.com)\", \"github (.com)\", \"Hello (Data Science World)\", \"Data (Scientist)\"]'\n",
    "pattern2=re.compile(r\"\\(\\)\")\n",
    "PSH=re.sub(pattern2, \"\", Sample)\n",
    "PSH"
   ]
  },
  {
   "cell_type": "code",
   "execution_count": 549,
   "id": "6f3dde0d",
   "metadata": {},
   "outputs": [
    {
     "data": {
      "text/plain": [
       "'[\"example\", \"hr@fliprobo\", \"github\", \"Hello\", \"Data\"]'"
      ]
     },
     "execution_count": 549,
     "metadata": {},
     "output_type": "execute_result"
    }
   ],
   "source": [
    "#Q6. ANS-\n",
    "Sample_Text: '[\"example (.com)\", \"hr@fliprobo (.com)\", \"github (.com)\", \"Hello (Data Science World)\", \"Data (Scientist)\"]'\n",
    "pattern3=(re.sub(r\" ?\\([^])]+\\)\",\"\",Sample_Text))\n",
    "pattern3\n"
   ]
  },
  {
   "cell_type": "code",
   "execution_count": 281,
   "id": "d3663c38",
   "metadata": {},
   "outputs": [
    {
     "data": {
      "text/plain": [
       "['Importance', 'Of', 'Regular', 'Expressions', 'In', 'Python']"
      ]
     },
     "execution_count": 281,
     "metadata": {},
     "output_type": "execute_result"
    }
   ],
   "source": [
    "#Q7. ANS-\n",
    "Sample_text= \"ImportanceOfRegularExpressionsInPython\"\n",
    "PS2=re.findall('[A-Z][^A-Z]*', Sample_text)\n",
    "PS2"
   ]
  },
  {
   "cell_type": "code",
   "execution_count": 282,
   "id": "4605722f",
   "metadata": {},
   "outputs": [
    {
     "data": {
      "text/plain": [
       "'RegularExpression 1IsAn 2ImportantTopic 3InPython'"
      ]
     },
     "execution_count": 282,
     "metadata": {},
     "output_type": "execute_result"
    }
   ],
   "source": [
    "#Q8. ANS-\n",
    "Text3= \"RegularExpression1IsAn2ImportantTopic3InPython\"\n",
    "pattern4 = r'(\\d+)([A-Za-z]+)'\n",
    "PS3 =re.sub(pattern4, r' \\1\\2', Text3)\n",
    "PS3\n",
    "    "
   ]
  },
  {
   "cell_type": "code",
   "execution_count": 283,
   "id": "e65dd3f9",
   "metadata": {},
   "outputs": [
    {
     "data": {
      "text/plain": [
       "'RegularExpression 1 IsAn 2 ImportantTopic 3 InPython'"
      ]
     },
     "execution_count": 283,
     "metadata": {},
     "output_type": "execute_result"
    }
   ],
   "source": [
    "#Q9. ANS-\n",
    "Text4= \"RegularExpression1IsAn2ImportantTopic3InPython\"\n",
    "pattern5 = r'(\\d+)([A-Za-z]+)'\n",
    "PS4 =re.sub(pattern5, r' \\1 \\2', Text4)\n",
    "PS4"
   ]
  },
  {
   "cell_type": "code",
   "execution_count": 568,
   "id": "cdbadcc1",
   "metadata": {},
   "outputs": [
    {
     "name": "stdout",
     "output_type": "stream",
     "text": [
      "match found\n"
     ]
    }
   ],
   "source": [
    "#Q11. ANS-\n",
    "Text5=\"Wiki_engines_1\"\n",
    "pattern6= r'^[a-zA-Z0-9_]*$'\n",
    "if re.search(pattern6, Text5):\n",
    "    print ('match found')\n",
    "else:\n",
    "    print ('not found')"
   ]
  },
  {
   "cell_type": "code",
   "execution_count": 569,
   "id": "bacc9df9",
   "metadata": {},
   "outputs": [
    {
     "name": "stdout",
     "output_type": "stream",
     "text": [
      "match found\n"
     ]
    }
   ],
   "source": [
    "#Q12. ANS-\n",
    "string1='4567898765'\n",
    "pattern6=re.compile(r'^4')\n",
    "if re.match(pattern6,string1):\n",
    "    print ('match found')\n",
    "else:\n",
    "    print ('not found')\n"
   ]
  },
  {
   "cell_type": "code",
   "execution_count": 570,
   "id": "bf55f104",
   "metadata": {},
   "outputs": [
    {
     "data": {
      "text/plain": [
       "'192.8.6.1'"
      ]
     },
     "execution_count": 570,
     "metadata": {},
     "output_type": "execute_result"
    }
   ],
   "source": [
    "#Q13. ANS-\n",
    "IP_Address='192.08.06.1'\n",
    "pattern7=re.sub(r'\\.[0]*','.', IP_Address)\n",
    "pattern7"
   ]
  },
  {
   "cell_type": "code",
   "execution_count": 610,
   "id": "f7bb6e36",
   "metadata": {},
   "outputs": [
    {
     "data": {
      "text/plain": [
       "['August 15th 1947']"
      ]
     },
     "execution_count": 610,
     "metadata": {},
     "output_type": "execute_result"
    }
   ],
   "source": [
    "#Q14. ANS-\n",
    "string2=\"On August 15th 1947 that India was declared independent from British colonialism, and the reins of control were handed over to the leaders of the Country.\"\n",
    "pattern8 = r\"\\b([A-Z][a-z]+ \\d{1,2}(?:st|nd|rd|th)? \\d{4})\\b\"\n",
    "matches = re.findall(pattern8,string2 )\n",
    "matches"
   ]
  },
  {
   "cell_type": "code",
   "execution_count": 572,
   "id": "63533375",
   "metadata": {},
   "outputs": [
    {
     "name": "stdout",
     "output_type": "stream",
     "text": [
      "Searching for \"fox\" in \"The quick brown fox jumps over the lazy dog.\" ->\n",
      "Searching for \"dog\" in \"The quick brown fox jumps over the lazy dog.\" ->\n",
      "Searching for \"horse\" in \"The quick brown fox jumps over the lazy dog.\" ->\n",
      "Not Matched!\n"
     ]
    }
   ],
   "source": [
    "#Q15. ANS-\n",
    "string3= 'The quick brown fox jumps over the lazy dog.'\n",
    "pattern9 = [ 'fox', 'dog', 'horse' ]\n",
    "for pattern in pattern9:\n",
    "    print('Searching for \"%s\" in \"%s\" ->' % (pattern, string3),)\n",
    "if re.search(pattern,  text):\n",
    "    print('Matched!')\n",
    "else:\n",
    "    print('Not Matched!')\n"
   ]
  },
  {
   "cell_type": "code",
   "execution_count": 573,
   "id": "075e7a26",
   "metadata": {},
   "outputs": [
    {
     "name": "stdout",
     "output_type": "stream",
     "text": [
      "Found \"fox\" in \"The quick brown fox jumps over the lazy dog.\" from 16 to 19 \n"
     ]
    }
   ],
   "source": [
    "#Q16. ANS-\n",
    "string4= 'The quick brown fox jumps over the lazy dog.'\n",
    "pattern10 = 'fox'\n",
    "match = re.search(pattern10, string4)\n",
    "s = match.start()\n",
    "e = match.end()\n",
    "print('Found \"%s\" in \"%s\" from %d to %d ' % (match.re.pattern, match.string, s, e))"
   ]
  },
  {
   "cell_type": "code",
   "execution_count": 574,
   "id": "c6498638",
   "metadata": {},
   "outputs": [
    {
     "name": "stdout",
     "output_type": "stream",
     "text": [
      "Found \"exercises\"\n",
      "Found \"exercises\"\n",
      "Found \"exercises\"\n"
     ]
    }
   ],
   "source": [
    "#Q17. ANS-\n",
    "string5= 'Python exercises, PHP exercises, C# exercises'\n",
    "pattern11 = 'exercises'\n",
    "for match in re.findall(pattern11, string5):\n",
    "    print('Found \"%s\"' % match)"
   ]
  },
  {
   "cell_type": "code",
   "execution_count": 594,
   "id": "6b644bc8",
   "metadata": {},
   "outputs": [
    {
     "name": "stdout",
     "output_type": "stream",
     "text": [
      "Found \"exercises\" at 7:16\n",
      "Found \"exercises\" at 22:31\n",
      "Found \"exercises\" at 36:45\n"
     ]
    }
   ],
   "source": [
    "#Q18. ANS-\n",
    "string6 = 'Python exercises, PHP exercises, C# exercises'\n",
    "pattern12 = 'exercises'\n",
    "for match in re.finditer(pattern12, string6):\n",
    "    s = match.start()\n",
    "    e = match.end()\n",
    "    print('Found \"%s\" at %d:%d' % (text[s:e], s, e))"
   ]
  },
  {
   "cell_type": "code",
   "execution_count": 593,
   "id": "4bf471dc",
   "metadata": {},
   "outputs": [
    {
     "name": "stdout",
     "output_type": "stream",
     "text": [
      "Date in YYY-MM-DD Format:  2023-12-15\n",
      "New date in DD-MM-YYYY Format:  15-12-2023\n"
     ]
    }
   ],
   "source": [
    "#Q19. ANS-\n",
    "date = \"2023-12-15\"\n",
    "def change_date_format(dt):\n",
    "        return re.sub(r'(\\d{4})-(\\d{1,2})-(\\d{1,2})', '\\\\3-\\\\2-\\\\1', date)\n",
    "print(\"Date in YYY-MM-DD Format: \",date)\n",
    "print(\"New date in DD-MM-YYYY Format: \",change_date_format(date))"
   ]
  },
  {
   "cell_type": "code",
   "execution_count": 447,
   "id": "3334bccb",
   "metadata": {},
   "outputs": [
    {
     "data": {
      "text/plain": [
       "['01.12', '0132.12', '2.31', '145.8', '3.01', '27.25', '0.25']"
      ]
     },
     "execution_count": 447,
     "metadata": {},
     "output_type": "execute_result"
    }
   ],
   "source": [
    "#Q20. ANS-\n",
    "string7=\"01.12 0132.123 2.31875 145.8 3.01 27.25 0.25\"\n",
    "pattern13 = re.compile(r'\\d+\\.\\d{1,2}')\n",
    "result =re.findall(pattern13, string7)\n",
    "result"
   ]
  },
  {
   "cell_type": "code",
   "execution_count": 455,
   "id": "da1870ef",
   "metadata": {},
   "outputs": [
    {
     "name": "stdout",
     "output_type": "stream",
     "text": [
      "2023\n",
      "Position: 82\n"
     ]
    }
   ],
   "source": [
    "#Q21. ANS-\n",
    "string8 = \"The English-language Wikipedia has the largest collection of articles: as of July 2023, it has over six million articles.\"\n",
    "for m in re.finditer(\"\\d+\", text):\n",
    "    print(m.group(0))\n",
    "print(\"Position:\", m.start())"
   ]
  },
  {
   "cell_type": "code",
   "execution_count": 462,
   "id": "eb8b3f45",
   "metadata": {},
   "outputs": [
    {
     "data": {
      "text/plain": [
       "950"
      ]
     },
     "execution_count": 462,
     "metadata": {},
     "output_type": "execute_result"
    }
   ],
   "source": [
    "#Q22. ANS-\n",
    "string9='My marks in each semester are: 947, 896, 926, 524, 734, 950, 642'\n",
    "pattern14=re.findall('\\d+', string9)\n",
    "Num=map(int,pattern14)\n",
    "Max_Num=max(Num)\n",
    "Max_Num"
   ]
  },
  {
   "cell_type": "code",
   "execution_count": 495,
   "id": "be40e3a3",
   "metadata": {},
   "outputs": [
    {
     "data": {
      "text/plain": [
       "'Regular Expression Is An Important Topic In Python'"
      ]
     },
     "execution_count": 495,
     "metadata": {},
     "output_type": "execute_result"
    }
   ],
   "source": [
    "#Q23. ANS-\n",
    "string10=\"RegularExpressionIsAnImportantTopicInPython\"\n",
    "pattern15 = re.sub(r\"(\\w)([A-Z])\", r\"\\1 \\2\", string10)\n",
    "pattern15"
   ]
  },
  {
   "cell_type": "code",
   "execution_count": 595,
   "id": "86c0a8b9",
   "metadata": {},
   "outputs": [
    {
     "data": {
      "text/plain": [
       "['The', 'WIki', 'Students', 'Collaborative', 'Building']"
      ]
     },
     "execution_count": 595,
     "metadata": {},
     "output_type": "execute_result"
    }
   ],
   "source": [
    "#Q24. ANS-\n",
    "string11='The WIki activity allows Students to create a Collaborative document by Building pages together'\n",
    "pattern16 =r'[A-Z]+[a-z]+'\n",
    "Sample=re.findall(pattern16, string11)\n",
    "Sample"
   ]
  },
  {
   "cell_type": "code",
   "execution_count": 606,
   "id": "9a622761",
   "metadata": {},
   "outputs": [
    {
     "data": {
      "text/plain": [
       "'Hello hello world'"
      ]
     },
     "execution_count": 606,
     "metadata": {},
     "output_type": "execute_result"
    }
   ],
   "source": [
    "#Q25. ANS-\n",
    "string12=\"Hello hello world world\"\n",
    "pattern17=r'\\b(\\w+)(\\s+\\1\\b)+'\n",
    "text=re.sub(pattern17, r'\\1', string12)\n",
    "text"
   ]
  },
  {
   "cell_type": "code",
   "execution_count": 597,
   "id": "c966c32e",
   "metadata": {},
   "outputs": [
    {
     "name": "stdout",
     "output_type": "stream",
     "text": [
      "Accept\n"
     ]
    }
   ],
   "source": [
    "#Q26. ANS-\n",
    "string14=\"Process@*%^_2018\"\n",
    "pattern18 = '[a-zA-z0-9]$'\n",
    "if (re.search(pattern18, string)):\n",
    "    print(\"Accept\")\n",
    "else:\n",
    "    print(\"Do not Accept\")"
   ]
  },
  {
   "cell_type": "code",
   "execution_count": 598,
   "id": "f5ddcd79",
   "metadata": {},
   "outputs": [
    {
     "data": {
      "text/plain": [
       "['#Doltiwal', '#xyzabc', '#Demonetization']"
      ]
     },
     "execution_count": 598,
     "metadata": {},
     "output_type": "execute_result"
    }
   ],
   "source": [
    "#Q27. ANS-\n",
    "string15=\"\"\"RT @kapil_kausik: #Doltiwal I mean #xyzabc is \"hurt\" by #Demonetization as the same has rendered USELESS <ed><U+00A0><U+00BD><ed><U+00B1><U+0089> \"acquired funds\" No wo\"\"\"\n",
    "pattern19= re.findall(r'#\\w+', string15)\n",
    "pattern19"
   ]
  },
  {
   "cell_type": "code",
   "execution_count": 599,
   "id": "6f686541",
   "metadata": {},
   "outputs": [
    {
     "data": {
      "text/plain": [
       "'@Jags123456 Bharat band on 28??<ed><ed>Those who  are protesting #demonetization  are all different party leaders'"
      ]
     },
     "execution_count": 599,
     "metadata": {},
     "output_type": "execute_result"
    }
   ],
   "source": [
    "#Q28. ANS-\n",
    "string16=\"@Jags123456 Bharat band on 28??<ed><U+00A0><U+00BD><ed><U+00B8><U+0082>Those who  are protesting #demonetization  are all different party leaders\"\n",
    "pattern20 = r\"<U\\+\\w{4}>\"\n",
    "Output= re.sub(pattern20, \"\", string16)\n",
    "Output\n"
   ]
  },
  {
   "cell_type": "code",
   "execution_count": 600,
   "id": "ac65daa1",
   "metadata": {},
   "outputs": [
    {
     "data": {
      "text/plain": [
       "['12-09-1992', '15-12-1999']"
      ]
     },
     "execution_count": 600,
     "metadata": {},
     "output_type": "execute_result"
    }
   ],
   "source": [
    "#Q29. ANS-\n",
    "string17='Ron was born on 12-09-1992 and he was admitted to school 15-12-1999.'\n",
    "pattern21 = r'\\d{2}-\\d{2}-\\d{4}'\n",
    "dates= re.findall(pattern21, string17)\n",
    "dates\n"
   ]
  },
  {
   "cell_type": "code",
   "execution_count": 601,
   "id": "01fa9ddb",
   "metadata": {},
   "outputs": [
    {
     "data": {
      "text/plain": [
       "' following example creates ArrayList a capacity elements. 4 elements added ArrayList ArrayList trimmed accordingly.'"
      ]
     },
     "execution_count": 601,
     "metadata": {},
     "output_type": "execute_result"
    }
   ],
   "source": [
    "#Q30. ANS-\n",
    "string18=\"The following example creates an ArrayList with a capacity of 50 elements. 4 elements are then added to the ArrayList and the ArrayList is trimmed accordingly.\"\n",
    "pattern22=re.compile(r'\\W*\\b\\w{2,4}\\b')\n",
    "Output1=pattern22.sub('',string18)\n",
    "Output1"
   ]
  },
  {
   "cell_type": "code",
   "execution_count": null,
   "id": "3facc5fb",
   "metadata": {},
   "outputs": [],
   "source": []
  }
 ],
 "metadata": {
  "kernelspec": {
   "display_name": "Python 3 (ipykernel)",
   "language": "python",
   "name": "python3"
  },
  "language_info": {
   "codemirror_mode": {
    "name": "ipython",
    "version": 3
   },
   "file_extension": ".py",
   "mimetype": "text/x-python",
   "name": "python",
   "nbconvert_exporter": "python",
   "pygments_lexer": "ipython3",
   "version": "3.10.9"
  }
 },
 "nbformat": 4,
 "nbformat_minor": 5
}
