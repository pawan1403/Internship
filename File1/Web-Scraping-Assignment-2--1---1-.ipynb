{
 "cells": [
  {
   "cell_type": "code",
   "execution_count": 1,
   "id": "c4c1917d",
   "metadata": {},
   "outputs": [
    {
     "name": "stdout",
     "output_type": "stream",
     "text": [
      "Requirement already satisfied: Selenium in c:\\users\\megha\\anaconda3\\lib\\site-packages (4.16.0)\n",
      "Requirement already satisfied: trio~=0.17 in c:\\users\\megha\\anaconda3\\lib\\site-packages (from Selenium) (0.24.0)\n",
      "Requirement already satisfied: trio-websocket~=0.9 in c:\\users\\megha\\anaconda3\\lib\\site-packages (from Selenium) (0.11.1)\n",
      "Requirement already satisfied: urllib3[socks]<3,>=1.26 in c:\\users\\megha\\anaconda3\\lib\\site-packages (from Selenium) (1.26.14)\n",
      "Requirement already satisfied: certifi>=2021.10.8 in c:\\users\\megha\\anaconda3\\lib\\site-packages (from Selenium) (2022.12.7)\n",
      "Requirement already satisfied: exceptiongroup in c:\\users\\megha\\anaconda3\\lib\\site-packages (from trio~=0.17->Selenium) (1.2.0)\n",
      "Requirement already satisfied: outcome in c:\\users\\megha\\anaconda3\\lib\\site-packages (from trio~=0.17->Selenium) (1.3.0.post0)\n",
      "Requirement already satisfied: cffi>=1.14 in c:\\users\\megha\\anaconda3\\lib\\site-packages (from trio~=0.17->Selenium) (1.15.1)\n",
      "Requirement already satisfied: idna in c:\\users\\megha\\anaconda3\\lib\\site-packages (from trio~=0.17->Selenium) (3.4)\n",
      "Requirement already satisfied: attrs>=20.1.0 in c:\\users\\megha\\anaconda3\\lib\\site-packages (from trio~=0.17->Selenium) (22.1.0)\n",
      "Requirement already satisfied: sortedcontainers in c:\\users\\megha\\anaconda3\\lib\\site-packages (from trio~=0.17->Selenium) (2.4.0)\n",
      "Requirement already satisfied: sniffio>=1.3.0 in c:\\users\\megha\\anaconda3\\lib\\site-packages (from trio~=0.17->Selenium) (1.3.0)\n",
      "Requirement already satisfied: wsproto>=0.14 in c:\\users\\megha\\anaconda3\\lib\\site-packages (from trio-websocket~=0.9->Selenium) (1.2.0)\n",
      "Requirement already satisfied: PySocks!=1.5.7,<2.0,>=1.5.6 in c:\\users\\megha\\anaconda3\\lib\\site-packages (from urllib3[socks]<3,>=1.26->Selenium) (1.7.1)\n",
      "Requirement already satisfied: pycparser in c:\\users\\megha\\anaconda3\\lib\\site-packages (from cffi>=1.14->trio~=0.17->Selenium) (2.21)\n",
      "Requirement already satisfied: h11<1,>=0.9.0 in c:\\users\\megha\\anaconda3\\lib\\site-packages (from wsproto>=0.14->trio-websocket~=0.9->Selenium) (0.14.0)\n"
     ]
    }
   ],
   "source": [
    "!pip install Selenium"
   ]
  },
  {
   "cell_type": "code",
   "execution_count": 30,
   "id": "8263f65d",
   "metadata": {},
   "outputs": [],
   "source": [
    "import selenium\n",
    "import pandas as pd\n",
    "from selenium import webdriver\n",
    "import warnings\n",
    "warnings.filterwarnings('ignore')\n",
    "from selenium.webdriver.common.by import By\n",
    "import time"
   ]
  },
  {
   "cell_type": "code",
   "execution_count": 146,
   "id": "256f85e9",
   "metadata": {},
   "outputs": [],
   "source": [
    "#Q1.Ans:-"
   ]
  },
  {
   "cell_type": "code",
   "execution_count": 31,
   "id": "6845b4a3",
   "metadata": {},
   "outputs": [],
   "source": [
    "driver=webdriver.Chrome()"
   ]
  },
  {
   "cell_type": "code",
   "execution_count": 32,
   "id": "28d20abb",
   "metadata": {},
   "outputs": [],
   "source": [
    "driver.get(\"https://www.shine.com/\")"
   ]
  },
  {
   "cell_type": "code",
   "execution_count": 33,
   "id": "af7d5891",
   "metadata": {},
   "outputs": [],
   "source": [
    "Job_title=driver.find_element(By.ID,\"id_q\")\n",
    "Job_title.send_keys(\"Data Analyst\")"
   ]
  },
  {
   "cell_type": "code",
   "execution_count": 34,
   "id": "28214c5e",
   "metadata": {},
   "outputs": [],
   "source": [
    "Location=driver.find_element(By.XPATH,\"/html/body/div/div[4]/div/div[2]/div[2]/div/form/div/div[1]/ul/li[2]/div/input\")\n",
    "Location.send_keys(\"Bangalore\")"
   ]
  },
  {
   "cell_type": "code",
   "execution_count": 35,
   "id": "6312e063",
   "metadata": {},
   "outputs": [],
   "source": [
    "Search=driver.find_element(By.XPATH,\"/html/body/div/div[4]/div/div[2]/div[2]/div/form/div/div[2]/div/button\")\n",
    "Search.click()"
   ]
  },
  {
   "cell_type": "code",
   "execution_count": 77,
   "id": "6cb0831d",
   "metadata": {},
   "outputs": [],
   "source": [
    "Job_Title=[]\n",
    "title_tag=driver.find_elements(By.XPATH,'//h2[@itemprop=\"name\"]/a')\n",
    "for i in title_tag[0:10]:\n",
    "    title=i.text\n",
    "    Job_Title.append(title)"
   ]
  },
  {
   "cell_type": "code",
   "execution_count": 53,
   "id": "eaaf4e17",
   "metadata": {
    "scrolled": true
   },
   "outputs": [],
   "source": [
    "Company_Name=[]\n",
    "Company=driver.find_elements(By.CLASS_NAME,\"jobCard_jobCard_cName__mYnow\")\n",
    "for i in Company [0:10]:\n",
    "    Company=i.text\n",
    "    Company_Name.append(Company)"
   ]
  },
  {
   "cell_type": "code",
   "execution_count": 89,
   "id": "2f0f8d64",
   "metadata": {},
   "outputs": [],
   "source": [
    "Experience_Required=[]\n",
    "Experience=driver.find_elements(By.XPATH,'//div[@class=\" jobCard_jobCard_lists_item__YxRkV jobCard_jobIcon__3FB1t\"]')\n",
    "for i in Experience[0:10]:\n",
    "    Experience=i.text\n",
    "    Experience_Required.append(Experience)"
   ]
  },
  {
   "cell_type": "code",
   "execution_count": 98,
   "id": "4b197ea1",
   "metadata": {},
   "outputs": [],
   "source": [
    "Job_Location=[]\n",
    "Job=driver.find_elements(By.XPATH,'//div[@class=\" jobCard_jobCard_lists_item__YxRkV jobCard_locationIcon__zrWt2\"]')\n",
    "for i in Job[0:10]:\n",
    "    Job=i.text\n",
    "    Job_Location.append(Job)"
   ]
  },
  {
   "cell_type": "code",
   "execution_count": 99,
   "id": "f3c86425",
   "metadata": {},
   "outputs": [
    {
     "data": {
      "text/plain": [
       "10"
      ]
     },
     "execution_count": 99,
     "metadata": {},
     "output_type": "execute_result"
    }
   ],
   "source": [
    "len(Job_Location)"
   ]
  },
  {
   "cell_type": "code",
   "execution_count": 101,
   "id": "d4e25975",
   "metadata": {},
   "outputs": [
    {
     "data": {
      "text/html": [
       "<div>\n",
       "<style scoped>\n",
       "    .dataframe tbody tr th:only-of-type {\n",
       "        vertical-align: middle;\n",
       "    }\n",
       "\n",
       "    .dataframe tbody tr th {\n",
       "        vertical-align: top;\n",
       "    }\n",
       "\n",
       "    .dataframe thead th {\n",
       "        text-align: right;\n",
       "    }\n",
       "</style>\n",
       "<table border=\"1\" class=\"dataframe\">\n",
       "  <thead>\n",
       "    <tr style=\"text-align: right;\">\n",
       "      <th></th>\n",
       "      <th>Job Title</th>\n",
       "      <th>Company Name</th>\n",
       "      <th>Experience Required</th>\n",
       "      <th>Job_Location</th>\n",
       "    </tr>\n",
       "  </thead>\n",
       "  <tbody>\n",
       "    <tr>\n",
       "      <th>0</th>\n",
       "      <td>Lead Data Analyst</td>\n",
       "      <td>ara resources private limited</td>\n",
       "      <td>4 to 9 Yrs</td>\n",
       "      <td>Bangalore</td>\n",
       "    </tr>\n",
       "    <tr>\n",
       "      <th>1</th>\n",
       "      <td>Data Analyst</td>\n",
       "      <td>diraa hr services hiring for mncs</td>\n",
       "      <td>0 to 1 Yr</td>\n",
       "      <td>Bangalore\\n+3</td>\n",
       "    </tr>\n",
       "    <tr>\n",
       "      <th>2</th>\n",
       "      <td>Vacancy For Data Analyst</td>\n",
       "      <td>yogita staffing solution</td>\n",
       "      <td>0 to 3 Yrs</td>\n",
       "      <td>Bangalore\\n+14</td>\n",
       "    </tr>\n",
       "    <tr>\n",
       "      <th>3</th>\n",
       "      <td>Clinical Data Analyst</td>\n",
       "      <td>techno endura</td>\n",
       "      <td>0 to 1 Yr</td>\n",
       "      <td>Bangalore\\n+6</td>\n",
       "    </tr>\n",
       "    <tr>\n",
       "      <th>4</th>\n",
       "      <td>Data Modeler data</td>\n",
       "      <td>boyen haddin consulting and technol...</td>\n",
       "      <td>3 to 6 Yrs</td>\n",
       "      <td>Bangalore</td>\n",
       "    </tr>\n",
       "    <tr>\n",
       "      <th>5</th>\n",
       "      <td>Data Modeller</td>\n",
       "      <td>boyen haddin consulting and technol...</td>\n",
       "      <td>3 to 6 Yrs</td>\n",
       "      <td>Bangalore</td>\n",
       "    </tr>\n",
       "    <tr>\n",
       "      <th>6</th>\n",
       "      <td>Data Modeler Bangalore</td>\n",
       "      <td>boyen haddin consulting and technol...</td>\n",
       "      <td>3 to 6 Yrs</td>\n",
       "      <td>Bangalore</td>\n",
       "    </tr>\n",
       "    <tr>\n",
       "      <th>7</th>\n",
       "      <td>Data Modeler</td>\n",
       "      <td>boyen haddin consulting and technol...</td>\n",
       "      <td>3 to 6 Yrs</td>\n",
       "      <td>Bangalore</td>\n",
       "    </tr>\n",
       "    <tr>\n",
       "      <th>8</th>\n",
       "      <td>Clinical Data Analyst</td>\n",
       "      <td>quiscon biotech</td>\n",
       "      <td>0 to 2 Yrs</td>\n",
       "      <td>Bangalore\\n+4</td>\n",
       "    </tr>\n",
       "    <tr>\n",
       "      <th>9</th>\n",
       "      <td>Data Analyst Hiring Fresher and Experience</td>\n",
       "      <td>kavya interprises</td>\n",
       "      <td>0 to 4 Yrs</td>\n",
       "      <td>Bangalore\\n+13</td>\n",
       "    </tr>\n",
       "  </tbody>\n",
       "</table>\n",
       "</div>"
      ],
      "text/plain": [
       "                                    Job Title  \\\n",
       "0                           Lead Data Analyst   \n",
       "1                                Data Analyst   \n",
       "2                    Vacancy For Data Analyst   \n",
       "3                       Clinical Data Analyst   \n",
       "4                           Data Modeler data   \n",
       "5                               Data Modeller   \n",
       "6                      Data Modeler Bangalore   \n",
       "7                                Data Modeler   \n",
       "8                       Clinical Data Analyst   \n",
       "9  Data Analyst Hiring Fresher and Experience   \n",
       "\n",
       "                             Company Name Experience Required    Job_Location  \n",
       "0           ara resources private limited          4 to 9 Yrs       Bangalore  \n",
       "1       diraa hr services hiring for mncs           0 to 1 Yr   Bangalore\\n+3  \n",
       "2                yogita staffing solution          0 to 3 Yrs  Bangalore\\n+14  \n",
       "3                           techno endura           0 to 1 Yr   Bangalore\\n+6  \n",
       "4  boyen haddin consulting and technol...          3 to 6 Yrs       Bangalore  \n",
       "5  boyen haddin consulting and technol...          3 to 6 Yrs       Bangalore  \n",
       "6  boyen haddin consulting and technol...          3 to 6 Yrs       Bangalore  \n",
       "7  boyen haddin consulting and technol...          3 to 6 Yrs       Bangalore  \n",
       "8                         quiscon biotech          0 to 2 Yrs   Bangalore\\n+4  \n",
       "9                       kavya interprises          0 to 4 Yrs  Bangalore\\n+13  "
      ]
     },
     "execution_count": 101,
     "metadata": {},
     "output_type": "execute_result"
    }
   ],
   "source": [
    "df=pd.DataFrame({\"Job Title\":Job_Title,\"Company Name\":Company_Name,\"Experience Required\":Experience_Required,\"Job_Location\":Job_Location})\n",
    "df"
   ]
  },
  {
   "cell_type": "code",
   "execution_count": 145,
   "id": "422e3277",
   "metadata": {},
   "outputs": [],
   "source": [
    "#Q2.Ans:-"
   ]
  },
  {
   "cell_type": "code",
   "execution_count": 102,
   "id": "4587e27d",
   "metadata": {},
   "outputs": [],
   "source": [
    "driver=webdriver.Chrome()"
   ]
  },
  {
   "cell_type": "code",
   "execution_count": 104,
   "id": "340bbccb",
   "metadata": {},
   "outputs": [],
   "source": [
    "driver.get(\"https://www.shine.com/\")"
   ]
  },
  {
   "cell_type": "code",
   "execution_count": 105,
   "id": "16bf2025",
   "metadata": {},
   "outputs": [],
   "source": [
    "Job_title=driver.find_element(By.ID,\"id_q\")\n",
    "Job_title.send_keys(\"Data Scientist\")"
   ]
  },
  {
   "cell_type": "code",
   "execution_count": 106,
   "id": "8b7b2924",
   "metadata": {},
   "outputs": [],
   "source": [
    "Location=driver.find_element(By.XPATH,\"/html/body/div/div[4]/div/div[2]/div[2]/div/form/div/div[1]/ul/li[2]/div/input\")\n",
    "Location.send_keys(\"Bangalore\")"
   ]
  },
  {
   "cell_type": "code",
   "execution_count": 107,
   "id": "c23dc248",
   "metadata": {},
   "outputs": [],
   "source": [
    "Search=driver.find_element(By.XPATH,\"/html/body/div/div[4]/div/div[2]/div[2]/div/form/div/div[2]/div/button\")\n",
    "Search.click()"
   ]
  },
  {
   "cell_type": "code",
   "execution_count": 108,
   "id": "62fc6f9a",
   "metadata": {},
   "outputs": [],
   "source": [
    "Job_Title=[]\n",
    "title_tag=driver.find_elements(By.XPATH,'//h2[@itemprop=\"name\"]/a')\n",
    "for i in title_tag[0:10]:\n",
    "    title=i.text\n",
    "    Job_Title.append(title)"
   ]
  },
  {
   "cell_type": "code",
   "execution_count": 112,
   "id": "61f56639",
   "metadata": {},
   "outputs": [],
   "source": [
    "Company_Name=[]\n",
    "Company=driver.find_elements(By.CLASS_NAME,\"jobCard_jobCard_cName__mYnow\")\n",
    "for i in Company [0:10]:\n",
    "    Company=i.text\n",
    "    Company_Name.append(Company)"
   ]
  },
  {
   "cell_type": "code",
   "execution_count": 127,
   "id": "77646df2",
   "metadata": {},
   "outputs": [],
   "source": [
    "Experience_Required=[]\n",
    "Experience=driver.find_elements(By.XPATH,'//div[@class=\" jobCard_jobCard_lists_item__YxRkV jobCard_jobIcon__3FB1t\"]')\n",
    "for i in Experience[0:10]:\n",
    "    Experience=i.text\n",
    "    Experience_Required.append(Experience)"
   ]
  },
  {
   "cell_type": "code",
   "execution_count": 137,
   "id": "165dd52a",
   "metadata": {},
   "outputs": [],
   "source": [
    "Job_Location=[]\n",
    "Job=driver.find_elements(By.XPATH,'//div[@class=\" jobCard_jobCard_lists_item__YxRkV jobCard_locationIcon__zrWt2\"]')\n",
    "for i in Job[0:10]:\n",
    "    Job=i.text\n",
    "    Job_Location.append(Job)"
   ]
  },
  {
   "cell_type": "code",
   "execution_count": 141,
   "id": "6f078e77",
   "metadata": {},
   "outputs": [
    {
     "data": {
      "text/plain": [
       "(10, 10, 10, 10)"
      ]
     },
     "execution_count": 141,
     "metadata": {},
     "output_type": "execute_result"
    }
   ],
   "source": [
    "len(Job_Title),len(Company_Name),len(Experience_Required),len(Job_Location)"
   ]
  },
  {
   "cell_type": "code",
   "execution_count": 142,
   "id": "db75b371",
   "metadata": {},
   "outputs": [
    {
     "data": {
      "text/html": [
       "<div>\n",
       "<style scoped>\n",
       "    .dataframe tbody tr th:only-of-type {\n",
       "        vertical-align: middle;\n",
       "    }\n",
       "\n",
       "    .dataframe tbody tr th {\n",
       "        vertical-align: top;\n",
       "    }\n",
       "\n",
       "    .dataframe thead th {\n",
       "        text-align: right;\n",
       "    }\n",
       "</style>\n",
       "<table border=\"1\" class=\"dataframe\">\n",
       "  <thead>\n",
       "    <tr style=\"text-align: right;\">\n",
       "      <th></th>\n",
       "      <th>Job Title</th>\n",
       "      <th>Company Name</th>\n",
       "      <th>Experience Required</th>\n",
       "      <th>Job_Location</th>\n",
       "    </tr>\n",
       "  </thead>\n",
       "  <tbody>\n",
       "    <tr>\n",
       "      <th>0</th>\n",
       "      <td>Data Scientist</td>\n",
       "      <td>acme services private limited</td>\n",
       "      <td>3 to 5 Yrs</td>\n",
       "      <td>Bangalore\\n+4</td>\n",
       "    </tr>\n",
       "    <tr>\n",
       "      <th>1</th>\n",
       "      <td>Data Scientist</td>\n",
       "      <td>ltimindtree limited</td>\n",
       "      <td>6 to 8 Yrs</td>\n",
       "      <td>Bangalore</td>\n",
       "    </tr>\n",
       "    <tr>\n",
       "      <th>2</th>\n",
       "      <td>Lead Data Scientist/ Principal Data Scientist</td>\n",
       "      <td>fractal</td>\n",
       "      <td>5 to 9 Yrs</td>\n",
       "      <td>Bangalore\\n+1</td>\n",
       "    </tr>\n",
       "    <tr>\n",
       "      <th>3</th>\n",
       "      <td>Senior Data Scientist</td>\n",
       "      <td>neostats</td>\n",
       "      <td>7 to 11 Yrs</td>\n",
       "      <td>Bangalore\\n+1</td>\n",
       "    </tr>\n",
       "    <tr>\n",
       "      <th>4</th>\n",
       "      <td>Vacancy For Data Scientist Fresher and Experience</td>\n",
       "      <td>yogita staffing solution</td>\n",
       "      <td>0 to 3 Yrs</td>\n",
       "      <td>Bangalore\\n+14</td>\n",
       "    </tr>\n",
       "    <tr>\n",
       "      <th>5</th>\n",
       "      <td>Lead Data Scientist</td>\n",
       "      <td>aereo</td>\n",
       "      <td>7 to 10 Yrs</td>\n",
       "      <td>Bangalore\\n+1</td>\n",
       "    </tr>\n",
       "    <tr>\n",
       "      <th>6</th>\n",
       "      <td>Data Scientist</td>\n",
       "      <td>people staffing solutions</td>\n",
       "      <td>4 to 9 Yrs</td>\n",
       "      <td>Bangalore\\n+7</td>\n",
       "    </tr>\n",
       "    <tr>\n",
       "      <th>7</th>\n",
       "      <td>Data Scientist</td>\n",
       "      <td>diraa hr services</td>\n",
       "      <td>0 to 4 Yrs</td>\n",
       "      <td>Bangalore\\n+2</td>\n",
       "    </tr>\n",
       "    <tr>\n",
       "      <th>8</th>\n",
       "      <td>Data Scientist Urgent Vacancy</td>\n",
       "      <td>yogita staffing solution</td>\n",
       "      <td>0 to 3 Yrs</td>\n",
       "      <td>Bangalore\\n+14</td>\n",
       "    </tr>\n",
       "    <tr>\n",
       "      <th>9</th>\n",
       "      <td>Pharma Data Scientist</td>\n",
       "      <td>quiscon biotech</td>\n",
       "      <td>0 to 1 Yr</td>\n",
       "      <td>Bangalore\\n+4</td>\n",
       "    </tr>\n",
       "  </tbody>\n",
       "</table>\n",
       "</div>"
      ],
      "text/plain": [
       "                                           Job Title  \\\n",
       "0                                     Data Scientist   \n",
       "1                                     Data Scientist   \n",
       "2      Lead Data Scientist/ Principal Data Scientist   \n",
       "3                              Senior Data Scientist   \n",
       "4  Vacancy For Data Scientist Fresher and Experience   \n",
       "5                                Lead Data Scientist   \n",
       "6                                     Data Scientist   \n",
       "7                                     Data Scientist   \n",
       "8                      Data Scientist Urgent Vacancy   \n",
       "9                              Pharma Data Scientist   \n",
       "\n",
       "                    Company Name Experience Required    Job_Location  \n",
       "0  acme services private limited          3 to 5 Yrs   Bangalore\\n+4  \n",
       "1            ltimindtree limited          6 to 8 Yrs       Bangalore  \n",
       "2                        fractal          5 to 9 Yrs   Bangalore\\n+1  \n",
       "3                       neostats         7 to 11 Yrs   Bangalore\\n+1  \n",
       "4       yogita staffing solution          0 to 3 Yrs  Bangalore\\n+14  \n",
       "5                          aereo         7 to 10 Yrs   Bangalore\\n+1  \n",
       "6      people staffing solutions          4 to 9 Yrs   Bangalore\\n+7  \n",
       "7              diraa hr services          0 to 4 Yrs   Bangalore\\n+2  \n",
       "8       yogita staffing solution          0 to 3 Yrs  Bangalore\\n+14  \n",
       "9                quiscon biotech           0 to 1 Yr   Bangalore\\n+4  "
      ]
     },
     "execution_count": 142,
     "metadata": {},
     "output_type": "execute_result"
    }
   ],
   "source": [
    "df=pd.DataFrame({\"Job Title\":Job_Title,\"Company Name\":Company_Name,\"Experience Required\":Experience_Required,\"Job_Location\":Job_Location})\n",
    "df"
   ]
  },
  {
   "cell_type": "code",
   "execution_count": 144,
   "id": "6ed51e69",
   "metadata": {},
   "outputs": [],
   "source": [
    "#Q3.Ans:-"
   ]
  },
  {
   "cell_type": "code",
   "execution_count": 167,
   "id": "54413769",
   "metadata": {},
   "outputs": [],
   "source": [
    "driver=webdriver.Chrome()"
   ]
  },
  {
   "cell_type": "code",
   "execution_count": 168,
   "id": "ae3337e3",
   "metadata": {},
   "outputs": [],
   "source": [
    "driver.get(\"https://www.shine.com/\")"
   ]
  },
  {
   "cell_type": "code",
   "execution_count": 175,
   "id": "1d81b00c",
   "metadata": {},
   "outputs": [],
   "source": [
    "Job_title=driver.find_element(By.ID,\"id_q\")\n",
    "Job_title.send_keys(\"Data Scientist\")"
   ]
  },
  {
   "cell_type": "code",
   "execution_count": 176,
   "id": "d4fc1d52",
   "metadata": {},
   "outputs": [],
   "source": [
    "Location=driver.find_element(By.XPATH,\"/html/body/div/div[4]/div/div[2]/div[2]/div/form/div/div[1]/ul/li[2]/div/input\")\n",
    "Location.send_keys(\"Delhi\")"
   ]
  },
  {
   "cell_type": "code",
   "execution_count": 177,
   "id": "066f457d",
   "metadata": {},
   "outputs": [],
   "source": [
    "Salary=driver.find_element(By.XPATH,\"/html/body/div/div[4]/div/div[2]/div[2]/div/form/div/div[1]/ul[2]/li[1]/div/input[1]\")\n",
    "Salary.send_keys(\"3-6\")"
   ]
  },
  {
   "cell_type": "code",
   "execution_count": 178,
   "id": "8e3d1315",
   "metadata": {},
   "outputs": [],
   "source": [
    "Search=driver.find_element(By.XPATH,\"/html/body/div/div[4]/div/div[2]/div[2]/div/form/div/div[2]/div/button\")\n",
    "Search.click()"
   ]
  },
  {
   "cell_type": "code",
   "execution_count": 179,
   "id": "3b145705",
   "metadata": {},
   "outputs": [],
   "source": [
    "Job_Title=[]\n",
    "title_tag=driver.find_elements(By.XPATH,'//h2[@itemprop=\"name\"]/a')\n",
    "for i in title_tag[0:10]:\n",
    "    title=i.text\n",
    "    Job_Title.append(title)"
   ]
  },
  {
   "cell_type": "code",
   "execution_count": 180,
   "id": "1921d844",
   "metadata": {},
   "outputs": [],
   "source": [
    "Job_Location=[]\n",
    "Job=driver.find_elements(By.XPATH,'//div[@class=\" jobCard_jobCard_lists_item__YxRkV jobCard_locationIcon__zrWt2\"]')\n",
    "for i in Job[0:10]:\n",
    "    Job=i.text\n",
    "    Job_Location.append(Job)"
   ]
  },
  {
   "cell_type": "code",
   "execution_count": 183,
   "id": "0ef00829",
   "metadata": {},
   "outputs": [],
   "source": [
    "Company_Name=[]\n",
    "Company=driver.find_elements(By.CLASS_NAME,\"jobCard_jobCard_cName__mYnow\")\n",
    "for i in Company [0:10]:\n",
    "    Company=i.text\n",
    "    Company_Name.append(Company)"
   ]
  },
  {
   "cell_type": "code",
   "execution_count": 186,
   "id": "0279749a",
   "metadata": {},
   "outputs": [],
   "source": [
    "Experience_Required=[]\n",
    "Experience=driver.find_elements(By.XPATH,'//div[@class=\" jobCard_jobCard_lists_item__YxRkV jobCard_jobIcon__3FB1t\"]')\n",
    "for i in Experience[0:10]:\n",
    "    Experience=i.text\n",
    "    Experience_Required.append(Experience)"
   ]
  },
  {
   "cell_type": "code",
   "execution_count": 189,
   "id": "471fb163",
   "metadata": {},
   "outputs": [
    {
     "data": {
      "text/html": [
       "<div>\n",
       "<style scoped>\n",
       "    .dataframe tbody tr th:only-of-type {\n",
       "        vertical-align: middle;\n",
       "    }\n",
       "\n",
       "    .dataframe tbody tr th {\n",
       "        vertical-align: top;\n",
       "    }\n",
       "\n",
       "    .dataframe thead th {\n",
       "        text-align: right;\n",
       "    }\n",
       "</style>\n",
       "<table border=\"1\" class=\"dataframe\">\n",
       "  <thead>\n",
       "    <tr style=\"text-align: right;\">\n",
       "      <th></th>\n",
       "      <th>Job Title</th>\n",
       "      <th>Company Name</th>\n",
       "      <th>Experience Required</th>\n",
       "      <th>Job_Location</th>\n",
       "    </tr>\n",
       "  </thead>\n",
       "  <tbody>\n",
       "    <tr>\n",
       "      <th>0</th>\n",
       "      <td>Data Scientist - Japanese language</td>\n",
       "      <td>right advisors private limited</td>\n",
       "      <td>5 to 8 Yrs</td>\n",
       "      <td>Delhi</td>\n",
       "    </tr>\n",
       "    <tr>\n",
       "      <th>1</th>\n",
       "      <td>Data Scientist</td>\n",
       "      <td>thescholarhat</td>\n",
       "      <td>1 to 3 Yrs</td>\n",
       "      <td>Noida\\n+1</td>\n",
       "    </tr>\n",
       "    <tr>\n",
       "      <th>2</th>\n",
       "      <td>DataNeuron - Senior Data Scientist - NLP</td>\n",
       "      <td>dataneuron</td>\n",
       "      <td>3 to 4 Yrs</td>\n",
       "      <td>Delhi</td>\n",
       "    </tr>\n",
       "    <tr>\n",
       "      <th>3</th>\n",
       "      <td>Data Scientist</td>\n",
       "      <td>acme services private limited</td>\n",
       "      <td>3 to 5 Yrs</td>\n",
       "      <td>Delhi\\n+4</td>\n",
       "    </tr>\n",
       "    <tr>\n",
       "      <th>4</th>\n",
       "      <td>Python Data Scientist</td>\n",
       "      <td>buddy4study</td>\n",
       "      <td>4 to 8 Yrs</td>\n",
       "      <td>Noida\\n+1</td>\n",
       "    </tr>\n",
       "    <tr>\n",
       "      <th>5</th>\n",
       "      <td>Senior Data Scientist</td>\n",
       "      <td>roadzen</td>\n",
       "      <td>5 to 9 Yrs</td>\n",
       "      <td>Delhi</td>\n",
       "    </tr>\n",
       "    <tr>\n",
       "      <th>6</th>\n",
       "      <td>Data Scientist</td>\n",
       "      <td>adept global</td>\n",
       "      <td>3 to 7 Yrs</td>\n",
       "      <td>Delhi</td>\n",
       "    </tr>\n",
       "    <tr>\n",
       "      <th>7</th>\n",
       "      <td>Senior/Lead Data Scientist- Noida/Bangalore/Hy...</td>\n",
       "      <td>techneplus</td>\n",
       "      <td>3 to 8 Yrs</td>\n",
       "      <td>Noida\\n+1</td>\n",
       "    </tr>\n",
       "    <tr>\n",
       "      <th>8</th>\n",
       "      <td>Data Scientist</td>\n",
       "      <td>scrolltab</td>\n",
       "      <td>4 to 8 Yrs</td>\n",
       "      <td>Delhi</td>\n",
       "    </tr>\n",
       "    <tr>\n",
       "      <th>9</th>\n",
       "      <td>Data Scientist</td>\n",
       "      <td>info edge india ltd</td>\n",
       "      <td>1 to 5 Yrs</td>\n",
       "      <td>Noida\\n+1</td>\n",
       "    </tr>\n",
       "  </tbody>\n",
       "</table>\n",
       "</div>"
      ],
      "text/plain": [
       "                                           Job Title  \\\n",
       "0                 Data Scientist - Japanese language   \n",
       "1                                     Data Scientist   \n",
       "2           DataNeuron - Senior Data Scientist - NLP   \n",
       "3                                     Data Scientist   \n",
       "4                              Python Data Scientist   \n",
       "5                              Senior Data Scientist   \n",
       "6                                     Data Scientist   \n",
       "7  Senior/Lead Data Scientist- Noida/Bangalore/Hy...   \n",
       "8                                     Data Scientist   \n",
       "9                                     Data Scientist   \n",
       "\n",
       "                     Company Name Experience Required Job_Location  \n",
       "0  right advisors private limited          5 to 8 Yrs        Delhi  \n",
       "1                   thescholarhat          1 to 3 Yrs    Noida\\n+1  \n",
       "2                      dataneuron          3 to 4 Yrs        Delhi  \n",
       "3   acme services private limited          3 to 5 Yrs    Delhi\\n+4  \n",
       "4                     buddy4study          4 to 8 Yrs    Noida\\n+1  \n",
       "5                         roadzen          5 to 9 Yrs        Delhi  \n",
       "6                    adept global          3 to 7 Yrs        Delhi  \n",
       "7                      techneplus          3 to 8 Yrs    Noida\\n+1  \n",
       "8                       scrolltab          4 to 8 Yrs        Delhi  \n",
       "9             info edge india ltd          1 to 5 Yrs    Noida\\n+1  "
      ]
     },
     "execution_count": 189,
     "metadata": {},
     "output_type": "execute_result"
    }
   ],
   "source": [
    "df=pd.DataFrame({\"Job Title\":Job_Title,\"Company Name\":Company_Name,\"Experience Required\":Experience_Required,\"Job_Location\":Job_Location})\n",
    "df"
   ]
  },
  {
   "cell_type": "code",
   "execution_count": null,
   "id": "cf3e0578",
   "metadata": {},
   "outputs": [],
   "source": [
    "#Q4.Ans:-"
   ]
  },
  {
   "cell_type": "code",
   "execution_count": 232,
   "id": "f241d857",
   "metadata": {},
   "outputs": [],
   "source": [
    "driver=webdriver.Chrome()"
   ]
  },
  {
   "cell_type": "code",
   "execution_count": 233,
   "id": "52b404b5",
   "metadata": {},
   "outputs": [],
   "source": [
    "driver.get(\"https://www.flipkart.com/\")"
   ]
  },
  {
   "cell_type": "code",
   "execution_count": 234,
   "id": "fc65caed",
   "metadata": {},
   "outputs": [],
   "source": [
    "Product=driver.find_element(By.XPATH,\"/html/body/div[1]/div/div[1]/div/div/div/div/div[1]/div/div[1]/div/div[1]/div[1]/header/div[1]/div[2]/form/div/div/input\")\n",
    "Product.send_keys(\"Sunglasses\")"
   ]
  },
  {
   "cell_type": "code",
   "execution_count": 235,
   "id": "659adcc8",
   "metadata": {},
   "outputs": [],
   "source": [
    "Search=driver.find_element(By.XPATH,\"/html/body/div[1]/div/div[1]/div/div/div/div/div[1]/div/div[1]/div/div[1]/div[1]/header/div[1]/div[2]/form/div/button\")\n",
    "Search.click()"
   ]
  },
  {
   "cell_type": "code",
   "execution_count": 328,
   "id": "76eff644",
   "metadata": {},
   "outputs": [],
   "source": [
    "Brand_Name=[]\n",
    "start=0\n",
    "end=3\n",
    "for page in range(start,end):\n",
    "    Brand=driver.find_elements(By.XPATH,'//div[@class=\"_2WkVRV\"]')\n",
    "    for i in Brand[0:100]:\n",
    "        Brand=i.text\n",
    "        Brand_Name.append(Brand)\n",
    "    next_button=driver.find_element(By.XPATH,\"/html/body/div/div/div[3]/div[1]/div[2]/div[12]/div/div/nav/a[1]\")\n",
    "    next_button.click()"
   ]
  },
  {
   "cell_type": "code",
   "execution_count": 331,
   "id": "6b7afd97",
   "metadata": {},
   "outputs": [],
   "source": [
    "Product_Discription=[]\n",
    "start=0\n",
    "end=3\n",
    "for page in range(start,end):\n",
    "    PRD=driver.find_elements(By.XPATH,'//a[@class=\"IRpwTa\"]')\n",
    "    for i in PRD[0:100]:\n",
    "        PRD=i.text\n",
    "        Product_Discription.append(PRD)\n",
    "    next_button=driver.find_element(By.XPATH,\"/html/body/div/div/div[3]/div[1]/div[2]/div[12]/div/div/nav/a[1]\")\n",
    "    next_button.click()"
   ]
  },
  {
   "cell_type": "code",
   "execution_count": 317,
   "id": "a520855b",
   "metadata": {},
   "outputs": [],
   "source": [
    "Price=[]\n",
    "start=0\n",
    "end=3\n",
    "for page in range(start,end):\n",
    "    PRC=driver.find_elements(By.XPATH,'//div[@class=\"_30jeq3\"]')\n",
    "    for i in PRC[0:100]:\n",
    "        PRC=i.text\n",
    "        Price.append(PRC)\n",
    "    next_button=driver.find_element(By.XPATH,\"/html/body/div/div/div[3]/div[1]/div[2]/div[12]/div/div/nav/a[1]\")\n",
    "    next_button.click()"
   ]
  },
  {
   "cell_type": "code",
   "execution_count": 318,
   "id": "a85e4346",
   "metadata": {},
   "outputs": [],
   "source": [
    "Discount=[]"
   ]
  },
  {
   "cell_type": "code",
   "execution_count": 319,
   "id": "9beb58d3",
   "metadata": {},
   "outputs": [],
   "source": [
    "start=0\n",
    "end=3\n",
    "for page in range(start,end):\n",
    "    DIS=driver.find_elements(By.XPATH,'//div[@class=\"_25b18c\"]/div[3]')\n",
    "    for i in DIS[0:100]:\n",
    "        DIS=i.text\n",
    "        Discount.append(DIS)\n",
    "    next_button=driver.find_element(By.XPATH,\"/html/body/div/div/div[3]/div[1]/div[2]/div[12]/div/div/nav/a[1]\")\n",
    "    next_button.click()"
   ]
  },
  {
   "cell_type": "code",
   "execution_count": 333,
   "id": "2f5e82eb",
   "metadata": {},
   "outputs": [
    {
     "data": {
      "text/plain": [
       "(120, 117, 120, 120)"
      ]
     },
     "execution_count": 333,
     "metadata": {},
     "output_type": "execute_result"
    }
   ],
   "source": [
    "len(Brand_Name),len(Product_Discription), len(Price),len(Discount)"
   ]
  },
  {
   "cell_type": "code",
   "execution_count": 334,
   "id": "7624b908",
   "metadata": {},
   "outputs": [
    {
     "data": {
      "text/html": [
       "<div>\n",
       "<style scoped>\n",
       "    .dataframe tbody tr th:only-of-type {\n",
       "        vertical-align: middle;\n",
       "    }\n",
       "\n",
       "    .dataframe tbody tr th {\n",
       "        vertical-align: top;\n",
       "    }\n",
       "\n",
       "    .dataframe thead th {\n",
       "        text-align: right;\n",
       "    }\n",
       "</style>\n",
       "<table border=\"1\" class=\"dataframe\">\n",
       "  <thead>\n",
       "    <tr style=\"text-align: right;\">\n",
       "      <th></th>\n",
       "      <th>Brand_Name</th>\n",
       "      <th>Price</th>\n",
       "      <th>Discount</th>\n",
       "    </tr>\n",
       "  </thead>\n",
       "  <tbody>\n",
       "    <tr>\n",
       "      <th>0</th>\n",
       "      <td>Eyenaks</td>\n",
       "      <td>₹346</td>\n",
       "      <td>76% off</td>\n",
       "    </tr>\n",
       "    <tr>\n",
       "      <th>1</th>\n",
       "      <td>Eyewearlabs</td>\n",
       "      <td>₹2,199</td>\n",
       "      <td>38% off</td>\n",
       "    </tr>\n",
       "    <tr>\n",
       "      <th>2</th>\n",
       "      <td>SRPM</td>\n",
       "      <td>₹149</td>\n",
       "      <td>88% off</td>\n",
       "    </tr>\n",
       "    <tr>\n",
       "      <th>3</th>\n",
       "      <td>Elligator</td>\n",
       "      <td>₹149</td>\n",
       "      <td>70% off</td>\n",
       "    </tr>\n",
       "    <tr>\n",
       "      <th>4</th>\n",
       "      <td>ROADWAY</td>\n",
       "      <td>₹179</td>\n",
       "      <td>82% off</td>\n",
       "    </tr>\n",
       "    <tr>\n",
       "      <th>...</th>\n",
       "      <td>...</td>\n",
       "      <td>...</td>\n",
       "      <td>...</td>\n",
       "    </tr>\n",
       "    <tr>\n",
       "      <th>115</th>\n",
       "      <td>PIRASO</td>\n",
       "      <td>₹299</td>\n",
       "      <td>88% off</td>\n",
       "    </tr>\n",
       "    <tr>\n",
       "      <th>116</th>\n",
       "      <td>Eyewearlabs</td>\n",
       "      <td>₹1,999</td>\n",
       "      <td>44% off</td>\n",
       "    </tr>\n",
       "    <tr>\n",
       "      <th>117</th>\n",
       "      <td>ROZZETTA CRAFT</td>\n",
       "      <td>₹597</td>\n",
       "      <td>76% off</td>\n",
       "    </tr>\n",
       "    <tr>\n",
       "      <th>118</th>\n",
       "      <td>ROYAL SON</td>\n",
       "      <td>₹551</td>\n",
       "      <td>72% off</td>\n",
       "    </tr>\n",
       "    <tr>\n",
       "      <th>119</th>\n",
       "      <td>Singco India</td>\n",
       "      <td>₹249</td>\n",
       "      <td>87% off</td>\n",
       "    </tr>\n",
       "  </tbody>\n",
       "</table>\n",
       "<p>120 rows × 3 columns</p>\n",
       "</div>"
      ],
      "text/plain": [
       "         Brand_Name   Price Discount\n",
       "0           Eyenaks    ₹346  76% off\n",
       "1       Eyewearlabs  ₹2,199  38% off\n",
       "2              SRPM    ₹149  88% off\n",
       "3         Elligator    ₹149  70% off\n",
       "4           ROADWAY    ₹179  82% off\n",
       "..              ...     ...      ...\n",
       "115          PIRASO    ₹299  88% off\n",
       "116     Eyewearlabs  ₹1,999  44% off\n",
       "117  ROZZETTA CRAFT    ₹597  76% off\n",
       "118       ROYAL SON    ₹551  72% off\n",
       "119    Singco India    ₹249  87% off\n",
       "\n",
       "[120 rows x 3 columns]"
      ]
     },
     "execution_count": 334,
     "metadata": {},
     "output_type": "execute_result"
    }
   ],
   "source": [
    "df=pd.DataFrame({\"Brand_Name\":Brand_Name,\"Price\":Price,\"Discount\":Discount})\n",
    "df"
   ]
  },
  {
   "cell_type": "code",
   "execution_count": null,
   "id": "1090410f",
   "metadata": {},
   "outputs": [],
   "source": [
    "#Q5.Ans:-"
   ]
  },
  {
   "cell_type": "code",
   "execution_count": 335,
   "id": "ca4651e0",
   "metadata": {},
   "outputs": [],
   "source": [
    "driver=webdriver.Chrome()"
   ]
  },
  {
   "cell_type": "code",
   "execution_count": 339,
   "id": "c284575f",
   "metadata": {},
   "outputs": [],
   "source": [
    "driver.get(\"https://www.flipkart.com/apple-iphone-11-black-64-gb/p/itm4e5041ba101fd?pid=MOBFWQ6BXGJCEYNY&lid=LSTMOBFWQ6BXGJCEYNYZXSHRJ&marketplace=FLIPKART&q=i+phone+11+64++black&store=tyy%2F4io&srno=s_1_1&otracker=search&otracker1=search&fm=organic&iid=bc066fcd-b0cc-4013-8f62-d90202b015c6.MOBFWQ6BXGJCEYNY.SEARCH&ppt=hp&ppn=homepage&ssid=z05agw08io0000001706548609134&qH=53755a403abf0c51\")"
   ]
  },
  {
   "cell_type": "code",
   "execution_count": 340,
   "id": "1a50a87e",
   "metadata": {},
   "outputs": [],
   "source": [
    "Search=driver.find_element(By.XPATH,'//div[@class=\"_3UAT2v _16PBlm\"]')\n",
    "Search.click()"
   ]
  },
  {
   "cell_type": "code",
   "execution_count": 356,
   "id": "7bb7445d",
   "metadata": {},
   "outputs": [],
   "source": [
    "Rating=[]\n",
    "start=0\n",
    "end=10\n",
    "for page in range(start,end):\n",
    "    Rate=driver.find_elements(By.XPATH,'//div[@class=\"_3LWZlK _1BLPMq\"]')\n",
    "    for i in Rate:\n",
    "        Rate=i.text\n",
    "        Rating.append(Rate)\n",
    "    next_button=driver.find_element(By.XPATH,'//a[@class=\"_1LKTO3\"]')\n",
    "next_button.click()"
   ]
  },
  {
   "cell_type": "code",
   "execution_count": 368,
   "id": "9aa4c4df",
   "metadata": {},
   "outputs": [],
   "source": [
    "Review_summary=[]\n",
    "start=0\n",
    "end=10\n",
    "for page in range(start,end):\n",
    "    Review=driver.find_elements(By.CLASS_NAME,\"_2-N8zT\")\n",
    "    for i in Review:\n",
    "        Review=i.text\n",
    "        Review_summary.append(Review)"
   ]
  },
  {
   "cell_type": "code",
   "execution_count": 367,
   "id": "3ee6aa52",
   "metadata": {},
   "outputs": [],
   "source": [
    "Full_review=[]\n",
    "start=0\n",
    "end=10\n",
    "for page in range(start,end):\n",
    "    Review=driver.find_elements(By.XPATH,'//div[@class=\"t-ZTKy\"]/div')\n",
    "    for i in Review:\n",
    "        Review=i.text\n",
    "        Full_review.append(Review)"
   ]
  },
  {
   "cell_type": "code",
   "execution_count": 371,
   "id": "efc6260f",
   "metadata": {},
   "outputs": [
    {
     "data": {
      "text/html": [
       "<div>\n",
       "<style scoped>\n",
       "    .dataframe tbody tr th:only-of-type {\n",
       "        vertical-align: middle;\n",
       "    }\n",
       "\n",
       "    .dataframe tbody tr th {\n",
       "        vertical-align: top;\n",
       "    }\n",
       "\n",
       "    .dataframe thead th {\n",
       "        text-align: right;\n",
       "    }\n",
       "</style>\n",
       "<table border=\"1\" class=\"dataframe\">\n",
       "  <thead>\n",
       "    <tr style=\"text-align: right;\">\n",
       "      <th></th>\n",
       "      <th>Rating</th>\n",
       "      <th>Review summary</th>\n",
       "      <th>Full review</th>\n",
       "    </tr>\n",
       "  </thead>\n",
       "  <tbody>\n",
       "    <tr>\n",
       "      <th>0</th>\n",
       "      <td>5</td>\n",
       "      <td>Just wow!</td>\n",
       "      <td>Perfect Product!!</td>\n",
       "    </tr>\n",
       "    <tr>\n",
       "      <th>1</th>\n",
       "      <td>5</td>\n",
       "      <td>Worth every penny</td>\n",
       "      <td>Feeling awesome after getting the delivery of ...</td>\n",
       "    </tr>\n",
       "    <tr>\n",
       "      <th>2</th>\n",
       "      <td>5</td>\n",
       "      <td>Best in the market!</td>\n",
       "      <td>Good Camera</td>\n",
       "    </tr>\n",
       "    <tr>\n",
       "      <th>3</th>\n",
       "      <td>5</td>\n",
       "      <td>Wonderful</td>\n",
       "      <td>This is amazing at all</td>\n",
       "    </tr>\n",
       "    <tr>\n",
       "      <th>4</th>\n",
       "      <td>5</td>\n",
       "      <td>Classy product</td>\n",
       "      <td>Camera is awesome\\nBest battery backup\\nA perf...</td>\n",
       "    </tr>\n",
       "    <tr>\n",
       "      <th>...</th>\n",
       "      <td>...</td>\n",
       "      <td>...</td>\n",
       "      <td>...</td>\n",
       "    </tr>\n",
       "    <tr>\n",
       "      <th>95</th>\n",
       "      <td>5</td>\n",
       "      <td>Terrific</td>\n",
       "      <td>Very very good</td>\n",
       "    </tr>\n",
       "    <tr>\n",
       "      <th>96</th>\n",
       "      <td>5</td>\n",
       "      <td>Terrific purchase</td>\n",
       "      <td>Value for money 😍</td>\n",
       "    </tr>\n",
       "    <tr>\n",
       "      <th>97</th>\n",
       "      <td>5</td>\n",
       "      <td>Perfect product!</td>\n",
       "      <td>Photos super</td>\n",
       "    </tr>\n",
       "    <tr>\n",
       "      <th>98</th>\n",
       "      <td>5</td>\n",
       "      <td>Perfect product!</td>\n",
       "      <td>V Good all</td>\n",
       "    </tr>\n",
       "    <tr>\n",
       "      <th>99</th>\n",
       "      <td>5</td>\n",
       "      <td>Fabulous!</td>\n",
       "      <td>Super🔥 and good performance 👌❤️</td>\n",
       "    </tr>\n",
       "  </tbody>\n",
       "</table>\n",
       "<p>100 rows × 3 columns</p>\n",
       "</div>"
      ],
      "text/plain": [
       "   Rating       Review summary  \\\n",
       "0       5            Just wow!   \n",
       "1       5    Worth every penny   \n",
       "2       5  Best in the market!   \n",
       "3       5            Wonderful   \n",
       "4       5       Classy product   \n",
       "..    ...                  ...   \n",
       "95      5             Terrific   \n",
       "96      5    Terrific purchase   \n",
       "97      5     Perfect product!   \n",
       "98      5     Perfect product!   \n",
       "99      5            Fabulous!   \n",
       "\n",
       "                                          Full review  \n",
       "0                                   Perfect Product!!  \n",
       "1   Feeling awesome after getting the delivery of ...  \n",
       "2                                         Good Camera  \n",
       "3                              This is amazing at all  \n",
       "4   Camera is awesome\\nBest battery backup\\nA perf...  \n",
       "..                                                ...  \n",
       "95                                     Very very good  \n",
       "96                                  Value for money 😍  \n",
       "97                                       Photos super  \n",
       "98                                         V Good all  \n",
       "99                    Super🔥 and good performance 👌❤️  \n",
       "\n",
       "[100 rows x 3 columns]"
      ]
     },
     "execution_count": 371,
     "metadata": {},
     "output_type": "execute_result"
    }
   ],
   "source": [
    "df=pd.DataFrame({\"Rating\":Rating,\"Review summary\":Review_summary,\"Full review\":Full_review})\n",
    "df"
   ]
  },
  {
   "cell_type": "code",
   "execution_count": null,
   "id": "0847d419",
   "metadata": {},
   "outputs": [],
   "source": [
    "#Q6.Ans:-"
   ]
  },
  {
   "cell_type": "code",
   "execution_count": 372,
   "id": "a3695379",
   "metadata": {},
   "outputs": [],
   "source": [
    "driver=webdriver.Chrome()"
   ]
  },
  {
   "cell_type": "code",
   "execution_count": 373,
   "id": "d1a69fdc",
   "metadata": {},
   "outputs": [],
   "source": [
    "driver.get(\"https://www.flipkart.com/\")"
   ]
  },
  {
   "cell_type": "code",
   "execution_count": 374,
   "id": "eaf53beb",
   "metadata": {},
   "outputs": [],
   "source": [
    "Product=driver.find_element(By.XPATH,\"/html/body/div[1]/div/div[1]/div/div/div/div/div[1]/div/div[1]/div/div[1]/div[1]/header/div[1]/div[2]/form/div/div/input\")\n",
    "Product.send_keys(\"sneakers\")"
   ]
  },
  {
   "cell_type": "code",
   "execution_count": 375,
   "id": "dfc508aa",
   "metadata": {},
   "outputs": [],
   "source": [
    "Search=driver.find_element(By.XPATH,\"/html/body/div[1]/div/div[1]/div/div/div/div/div[1]/div/div[1]/div/div[1]/div[1]/header/div[1]/div[2]/form/div/button\")\n",
    "Search.click()"
   ]
  },
  {
   "cell_type": "code",
   "execution_count": 447,
   "id": "4080dfdf",
   "metadata": {},
   "outputs": [],
   "source": [
    "Brand=[]\n",
    "start=0\n",
    "end=3\n",
    "for page in range(start,end):\n",
    "    BRD=driver.find_elements(By.XPATH,'//div[@class=\"_2WkVRV\"]')\n",
    "    for i in BRD[0:100]:\n",
    "        BRD=i.text\n",
    "        Brand.append(BRD)\n",
    "next_button=driver.find_element(By.XPATH,\"/html/body/div/div/div[3]/div[1]/div[2]/div[12]/div/div/nav/a[11]\")\n",
    "next_button.click()"
   ]
  },
  {
   "cell_type": "code",
   "execution_count": 470,
   "id": "f1dd8369",
   "metadata": {},
   "outputs": [],
   "source": [
    "Product_Description=[]\n",
    "start=0\n",
    "end=3\n",
    "for page in range(start,end):\n",
    "    PRD=driver.find_elements(By.XPATH,'//a[@class=\"IRpwTa\"]'or'//a[@class=\"IRpwTa _2-ICcC\"]')\n",
    "    for i in PRD:\n",
    "        PRD=i.text\n",
    "        Product_Description.append(PRD)\n",
    "next_button=driver.find_element(By.XPATH,\"/html/body/div/div/div[3]/div[1]/div[2]/div[12]/div/div/nav/a[11]\")\n",
    "next_button.click()"
   ]
  },
  {
   "cell_type": "code",
   "execution_count": 471,
   "id": "5bcc68f9",
   "metadata": {},
   "outputs": [
    {
     "data": {
      "text/plain": [
       "99"
      ]
     },
     "execution_count": 471,
     "metadata": {},
     "output_type": "execute_result"
    }
   ],
   "source": [
    "len(Product_Description)"
   ]
  },
  {
   "cell_type": "code",
   "execution_count": 460,
   "id": "5ce25d90",
   "metadata": {},
   "outputs": [],
   "source": [
    "Price=[]\n",
    "start=0\n",
    "end=3\n",
    "for page in range(start,end):\n",
    "    PRC=driver.find_elements(By.XPATH,'//div[@class=\"_30jeq3\"]')\n",
    "    for i in PRC:\n",
    "        PRC=i.text\n",
    "        Price.append(PRC)\n",
    "next_button=driver.find_element(By.XPATH,\"/html/body/div/div/div[3]/div[1]/div[2]/div[12]/div/div/nav/a[11]\")\n",
    "next_button.click()"
   ]
  },
  {
   "cell_type": "code",
   "execution_count": 472,
   "id": "1aa3788a",
   "metadata": {},
   "outputs": [
    {
     "data": {
      "text/plain": [
       "120"
      ]
     },
     "execution_count": 472,
     "metadata": {},
     "output_type": "execute_result"
    }
   ],
   "source": [
    "len(Price)"
   ]
  },
  {
   "cell_type": "code",
   "execution_count": 463,
   "id": "9e3ca247",
   "metadata": {},
   "outputs": [
    {
     "data": {
      "text/html": [
       "<div>\n",
       "<style scoped>\n",
       "    .dataframe tbody tr th:only-of-type {\n",
       "        vertical-align: middle;\n",
       "    }\n",
       "\n",
       "    .dataframe tbody tr th {\n",
       "        vertical-align: top;\n",
       "    }\n",
       "\n",
       "    .dataframe thead th {\n",
       "        text-align: right;\n",
       "    }\n",
       "</style>\n",
       "<table border=\"1\" class=\"dataframe\">\n",
       "  <thead>\n",
       "    <tr style=\"text-align: right;\">\n",
       "      <th></th>\n",
       "      <th>Brand</th>\n",
       "      <th>Price</th>\n",
       "    </tr>\n",
       "  </thead>\n",
       "  <tbody>\n",
       "    <tr>\n",
       "      <th>0</th>\n",
       "      <td>BRUTON</td>\n",
       "      <td>₹699</td>\n",
       "    </tr>\n",
       "    <tr>\n",
       "      <th>1</th>\n",
       "      <td>aadi</td>\n",
       "      <td>₹699</td>\n",
       "    </tr>\n",
       "    <tr>\n",
       "      <th>2</th>\n",
       "      <td>URBANBOX</td>\n",
       "      <td>₹988</td>\n",
       "    </tr>\n",
       "    <tr>\n",
       "      <th>3</th>\n",
       "      <td>BRUTON</td>\n",
       "      <td>₹926</td>\n",
       "    </tr>\n",
       "    <tr>\n",
       "      <th>4</th>\n",
       "      <td>Deals4you</td>\n",
       "      <td>₹2,749</td>\n",
       "    </tr>\n",
       "    <tr>\n",
       "      <th>...</th>\n",
       "      <td>...</td>\n",
       "      <td>...</td>\n",
       "    </tr>\n",
       "    <tr>\n",
       "      <th>115</th>\n",
       "      <td>asian</td>\n",
       "      <td>₹624</td>\n",
       "    </tr>\n",
       "    <tr>\n",
       "      <th>116</th>\n",
       "      <td>Neeman's</td>\n",
       "      <td>₹3,600</td>\n",
       "    </tr>\n",
       "    <tr>\n",
       "      <th>117</th>\n",
       "      <td>BIG FOX</td>\n",
       "      <td>₹1,679</td>\n",
       "    </tr>\n",
       "    <tr>\n",
       "      <th>118</th>\n",
       "      <td>BRUTON</td>\n",
       "      <td>₹549</td>\n",
       "    </tr>\n",
       "    <tr>\n",
       "      <th>119</th>\n",
       "      <td>Skechers</td>\n",
       "      <td>₹499</td>\n",
       "    </tr>\n",
       "  </tbody>\n",
       "</table>\n",
       "<p>120 rows × 2 columns</p>\n",
       "</div>"
      ],
      "text/plain": [
       "         Brand   Price\n",
       "0       BRUTON    ₹699\n",
       "1         aadi    ₹699\n",
       "2     URBANBOX    ₹988\n",
       "3       BRUTON    ₹926\n",
       "4    Deals4you  ₹2,749\n",
       "..         ...     ...\n",
       "115      asian    ₹624\n",
       "116   Neeman's  ₹3,600\n",
       "117    BIG FOX  ₹1,679\n",
       "118     BRUTON    ₹549\n",
       "119   Skechers    ₹499\n",
       "\n",
       "[120 rows x 2 columns]"
      ]
     },
     "execution_count": 463,
     "metadata": {},
     "output_type": "execute_result"
    }
   ],
   "source": [
    "df=pd.DataFrame({\"Brand\":Brand,\"Price\":Price})\n",
    "df"
   ]
  },
  {
   "cell_type": "code",
   "execution_count": 473,
   "id": "98d3647d",
   "metadata": {},
   "outputs": [],
   "source": [
    "#Q7.Ans:-"
   ]
  },
  {
   "cell_type": "code",
   "execution_count": 474,
   "id": "f22d27a0",
   "metadata": {},
   "outputs": [],
   "source": [
    "driver=webdriver.Chrome()"
   ]
  },
  {
   "cell_type": "code",
   "execution_count": 475,
   "id": "ee430cdf",
   "metadata": {},
   "outputs": [],
   "source": [
    "driver.get(\"https://www.amazon.in/\")"
   ]
  },
  {
   "cell_type": "code",
   "execution_count": 476,
   "id": "f4c56dbe",
   "metadata": {},
   "outputs": [],
   "source": [
    "Product=driver.find_element(By.XPATH,\"/html/body/div[1]/header/div/div[1]/div[2]/div/form/div[2]/div[1]/input\")\n",
    "Product.send_keys(\"Laptop\")"
   ]
  },
  {
   "cell_type": "code",
   "execution_count": 478,
   "id": "2417af72",
   "metadata": {},
   "outputs": [],
   "source": [
    "Search=driver.find_element(By.XPATH,'//div[@class=\"nav-search-submit nav-sprite\"]')\n",
    "Search.click()"
   ]
  },
  {
   "cell_type": "code",
   "execution_count": 480,
   "id": "0491b212",
   "metadata": {},
   "outputs": [],
   "source": [
    "Search=driver.find_element(By.XPATH,'/html/body/div[1]/div[1]/div[1]/div[2]/div/div[3]/span/div[1]/div/div/div[6]/ul[19]/span/span[9]/li/span/a/span')\n",
    "Search.click()"
   ]
  },
  {
   "cell_type": "code",
   "execution_count": 484,
   "id": "9f2987f9",
   "metadata": {},
   "outputs": [],
   "source": [
    "Title=[]\n",
    "TTL=driver.find_elements(By.XPATH,'//a[@class=\"a-link-normal s-underline-text s-underline-link-text s-link-style a-text-normal\"]/span')\n",
    "for i in TTL[0:10]:\n",
    "    TTL=i.text\n",
    "    Title.append(TTL)"
   ]
  },
  {
   "cell_type": "code",
   "execution_count": 502,
   "id": "301c1608",
   "metadata": {},
   "outputs": [],
   "source": [
    "Rating=[]\n",
    "RTG=driver.find_elements(By.XPATH,'//div[@class=\"a-row a-size-small\"]/span/a')\n",
    "for i in RTG[0:10]:\n",
    "    RTG=i.text\n",
    "    Rating.append(RTG)"
   ]
  },
  {
   "cell_type": "code",
   "execution_count": 503,
   "id": "590ea61b",
   "metadata": {},
   "outputs": [],
   "source": [
    "Price=[]\n",
    "PRC=driver.find_elements(By.CLASS_NAME,\"a-price-whole\")\n",
    "for i in PRC[0:10]:\n",
    "    PRC=i.text\n",
    "    Price.append(PRC)"
   ]
  },
  {
   "cell_type": "code",
   "execution_count": 504,
   "id": "5cd809f1",
   "metadata": {},
   "outputs": [
    {
     "data": {
      "text/html": [
       "<div>\n",
       "<style scoped>\n",
       "    .dataframe tbody tr th:only-of-type {\n",
       "        vertical-align: middle;\n",
       "    }\n",
       "\n",
       "    .dataframe tbody tr th {\n",
       "        vertical-align: top;\n",
       "    }\n",
       "\n",
       "    .dataframe thead th {\n",
       "        text-align: right;\n",
       "    }\n",
       "</style>\n",
       "<table border=\"1\" class=\"dataframe\">\n",
       "  <thead>\n",
       "    <tr style=\"text-align: right;\">\n",
       "      <th></th>\n",
       "      <th>Title</th>\n",
       "      <th>Rating</th>\n",
       "      <th>Price</th>\n",
       "    </tr>\n",
       "  </thead>\n",
       "  <tbody>\n",
       "    <tr>\n",
       "      <th>0</th>\n",
       "      <td>Modern 14, Intel 12th Gen. i7-1255U, 36CM FHD ...</td>\n",
       "      <td>58</td>\n",
       "      <td>54,990</td>\n",
       "    </tr>\n",
       "    <tr>\n",
       "      <th>1</th>\n",
       "      <td>Galaxy Book3 Core i7 13th Gen 1355U - (16 GB/5...</td>\n",
       "      <td>65</td>\n",
       "      <td>89,990</td>\n",
       "    </tr>\n",
       "    <tr>\n",
       "      <th>2</th>\n",
       "      <td>Modern 14, Intel 12th Gen. i7-1255U, 36CM FHD ...</td>\n",
       "      <td>58</td>\n",
       "      <td>54,990</td>\n",
       "    </tr>\n",
       "    <tr>\n",
       "      <th>3</th>\n",
       "      <td>IdeaPad Slim 3 Intel Core i7 12th Gen 15.6 inc...</td>\n",
       "      <td>433</td>\n",
       "      <td>62,990</td>\n",
       "    </tr>\n",
       "    <tr>\n",
       "      <th>4</th>\n",
       "      <td>TUF Gaming F15, 15.6\"(39.62 cms) FHD 144Hz, In...</td>\n",
       "      <td>179</td>\n",
       "      <td>77,990</td>\n",
       "    </tr>\n",
       "    <tr>\n",
       "      <th>5</th>\n",
       "      <td>Vivobook 15, Intel Core i7-12650H 12th Gen, 15...</td>\n",
       "      <td>414</td>\n",
       "      <td>64,990</td>\n",
       "    </tr>\n",
       "    <tr>\n",
       "      <th>6</th>\n",
       "      <td>Travelmate Business Laptop Intel Core i7-11th ...</td>\n",
       "      <td>1</td>\n",
       "      <td>54,990</td>\n",
       "    </tr>\n",
       "    <tr>\n",
       "      <th>7</th>\n",
       "      <td>Victus Gaming Laptop, 12th Gen Intel Core i7-1...</td>\n",
       "      <td>139</td>\n",
       "      <td>81,990</td>\n",
       "    </tr>\n",
       "    <tr>\n",
       "      <th>8</th>\n",
       "      <td>Victus Gaming Laptop 13th Gen Intel Core i7-13...</td>\n",
       "      <td>681</td>\n",
       "      <td>1,10,990</td>\n",
       "    </tr>\n",
       "    <tr>\n",
       "      <th>9</th>\n",
       "      <td>Pavilion X360 11th Gen Intel Core i7 14\" (35.6...</td>\n",
       "      <td>5</td>\n",
       "      <td>78,990</td>\n",
       "    </tr>\n",
       "  </tbody>\n",
       "</table>\n",
       "</div>"
      ],
      "text/plain": [
       "                                               Title Rating     Price\n",
       "0  Modern 14, Intel 12th Gen. i7-1255U, 36CM FHD ...     58    54,990\n",
       "1  Galaxy Book3 Core i7 13th Gen 1355U - (16 GB/5...     65    89,990\n",
       "2  Modern 14, Intel 12th Gen. i7-1255U, 36CM FHD ...     58    54,990\n",
       "3  IdeaPad Slim 3 Intel Core i7 12th Gen 15.6 inc...    433    62,990\n",
       "4  TUF Gaming F15, 15.6\"(39.62 cms) FHD 144Hz, In...    179    77,990\n",
       "5  Vivobook 15, Intel Core i7-12650H 12th Gen, 15...    414    64,990\n",
       "6  Travelmate Business Laptop Intel Core i7-11th ...      1    54,990\n",
       "7  Victus Gaming Laptop, 12th Gen Intel Core i7-1...    139    81,990\n",
       "8  Victus Gaming Laptop 13th Gen Intel Core i7-13...    681  1,10,990\n",
       "9  Pavilion X360 11th Gen Intel Core i7 14\" (35.6...      5    78,990"
      ]
     },
     "execution_count": 504,
     "metadata": {},
     "output_type": "execute_result"
    }
   ],
   "source": [
    "df=pd.DataFrame({\"Title\":Title,\"Rating\":Rating,\"Price\":Price})\n",
    "df"
   ]
  },
  {
   "cell_type": "code",
   "execution_count": 505,
   "id": "d181f880",
   "metadata": {},
   "outputs": [],
   "source": [
    "#Q8.Ans:-"
   ]
  },
  {
   "cell_type": "code",
   "execution_count": 506,
   "id": "279d6e25",
   "metadata": {},
   "outputs": [],
   "source": [
    "driver=webdriver.Chrome()"
   ]
  },
  {
   "cell_type": "code",
   "execution_count": 507,
   "id": "b52c1547",
   "metadata": {},
   "outputs": [],
   "source": [
    "driver.get(\"https://www.azquotes.com/\")"
   ]
  },
  {
   "cell_type": "code",
   "execution_count": 508,
   "id": "bf200d59",
   "metadata": {},
   "outputs": [],
   "source": [
    "Search=driver.find_element(By.XPATH,\"/html/body/div[1]/div[1]/div[1]/div/div[3]/ul/li[5]/a\")\n",
    "Search.click()"
   ]
  },
  {
   "cell_type": "code",
   "execution_count": 513,
   "id": "5669c448",
   "metadata": {},
   "outputs": [],
   "source": [
    "Quote=[]\n",
    "QT=driver.find_elements(By.XPATH,'//a[@class=\"title\"]')\n",
    "for i in QT:\n",
    "    QT=i.text\n",
    "    Quote.append(QT)"
   ]
  },
  {
   "cell_type": "code",
   "execution_count": 515,
   "id": "8d287720",
   "metadata": {},
   "outputs": [],
   "source": [
    "Aurthor=[]\n",
    "AT=driver.find_elements(By.CLASS_NAME,\"author\")\n",
    "for i in AT:\n",
    "    AT=i.text\n",
    "    Aurthor.append(AT)"
   ]
  },
  {
   "cell_type": "code",
   "execution_count": 516,
   "id": "82cd94a3",
   "metadata": {},
   "outputs": [],
   "source": [
    "Type_of_Quote=[]\n",
    "QT=driver.find_elements(By.CLASS_NAME,\"tags\")\n",
    "for i in QT:\n",
    "    QT=i.text\n",
    "    Type_of_Quote.append(QT)"
   ]
  },
  {
   "cell_type": "code",
   "execution_count": 520,
   "id": "f754331e",
   "metadata": {},
   "outputs": [
    {
     "data": {
      "text/html": [
       "<div>\n",
       "<style scoped>\n",
       "    .dataframe tbody tr th:only-of-type {\n",
       "        vertical-align: middle;\n",
       "    }\n",
       "\n",
       "    .dataframe tbody tr th {\n",
       "        vertical-align: top;\n",
       "    }\n",
       "\n",
       "    .dataframe thead th {\n",
       "        text-align: right;\n",
       "    }\n",
       "</style>\n",
       "<table border=\"1\" class=\"dataframe\">\n",
       "  <thead>\n",
       "    <tr style=\"text-align: right;\">\n",
       "      <th></th>\n",
       "      <th>Quote</th>\n",
       "      <th>Aurthor</th>\n",
       "      <th>Type of Quote</th>\n",
       "    </tr>\n",
       "  </thead>\n",
       "  <tbody>\n",
       "    <tr>\n",
       "      <th>0</th>\n",
       "      <td>The essence of strategy is choosing what not t...</td>\n",
       "      <td>Michael Porter</td>\n",
       "      <td>Essence, Deep Thought, Transcendentalism</td>\n",
       "    </tr>\n",
       "    <tr>\n",
       "      <th>1</th>\n",
       "      <td>One cannot and must not try to erase the past ...</td>\n",
       "      <td>Golda Meir</td>\n",
       "      <td>Inspiration, Past, Trying</td>\n",
       "    </tr>\n",
       "    <tr>\n",
       "      <th>2</th>\n",
       "      <td>Patriotism means to stand by the country. It d...</td>\n",
       "      <td>Theodore Roosevelt</td>\n",
       "      <td>Country, Peace, War</td>\n",
       "    </tr>\n",
       "    <tr>\n",
       "      <th>3</th>\n",
       "      <td>Death is something inevitable. When a man has ...</td>\n",
       "      <td>Nelson Mandela</td>\n",
       "      <td>Inspirational, Motivational, Death</td>\n",
       "    </tr>\n",
       "    <tr>\n",
       "      <th>4</th>\n",
       "      <td>You have to love a nation that celebrates its ...</td>\n",
       "      <td>Erma Bombeck</td>\n",
       "      <td>4th Of July, Food, Patriotic</td>\n",
       "    </tr>\n",
       "    <tr>\n",
       "      <th>...</th>\n",
       "      <td>...</td>\n",
       "      <td>...</td>\n",
       "      <td>...</td>\n",
       "    </tr>\n",
       "    <tr>\n",
       "      <th>95</th>\n",
       "      <td>When the going gets weird, the weird turn pro.</td>\n",
       "      <td>Hunter S. Thompson</td>\n",
       "      <td>Music, Sports, Hunting</td>\n",
       "    </tr>\n",
       "    <tr>\n",
       "      <th>96</th>\n",
       "      <td>When a train goes through a tunnel and it gets...</td>\n",
       "      <td>Corrie Ten Boom</td>\n",
       "      <td>Trust, Encouraging, Uplifting</td>\n",
       "    </tr>\n",
       "    <tr>\n",
       "      <th>97</th>\n",
       "      <td>If you think you are too small to make a diffe...</td>\n",
       "      <td>Dalai Lama</td>\n",
       "      <td>Inspirational, Funny, Change</td>\n",
       "    </tr>\n",
       "    <tr>\n",
       "      <th>98</th>\n",
       "      <td>God doesn't require us to succeed, he only req...</td>\n",
       "      <td>Mother Teresa</td>\n",
       "      <td>Success, God, Mother</td>\n",
       "    </tr>\n",
       "    <tr>\n",
       "      <th>99</th>\n",
       "      <td>Change your thoughts and you change your world.</td>\n",
       "      <td>Norman Vincent Peale</td>\n",
       "      <td>Inspirational, Motivational, Change</td>\n",
       "    </tr>\n",
       "  </tbody>\n",
       "</table>\n",
       "<p>100 rows × 3 columns</p>\n",
       "</div>"
      ],
      "text/plain": [
       "                                                Quote               Aurthor  \\\n",
       "0   The essence of strategy is choosing what not t...        Michael Porter   \n",
       "1   One cannot and must not try to erase the past ...            Golda Meir   \n",
       "2   Patriotism means to stand by the country. It d...    Theodore Roosevelt   \n",
       "3   Death is something inevitable. When a man has ...        Nelson Mandela   \n",
       "4   You have to love a nation that celebrates its ...          Erma Bombeck   \n",
       "..                                                ...                   ...   \n",
       "95     When the going gets weird, the weird turn pro.    Hunter S. Thompson   \n",
       "96  When a train goes through a tunnel and it gets...       Corrie Ten Boom   \n",
       "97  If you think you are too small to make a diffe...            Dalai Lama   \n",
       "98  God doesn't require us to succeed, he only req...         Mother Teresa   \n",
       "99    Change your thoughts and you change your world.  Norman Vincent Peale   \n",
       "\n",
       "                               Type of Quote  \n",
       "0   Essence, Deep Thought, Transcendentalism  \n",
       "1                  Inspiration, Past, Trying  \n",
       "2                        Country, Peace, War  \n",
       "3         Inspirational, Motivational, Death  \n",
       "4               4th Of July, Food, Patriotic  \n",
       "..                                       ...  \n",
       "95                    Music, Sports, Hunting  \n",
       "96             Trust, Encouraging, Uplifting  \n",
       "97              Inspirational, Funny, Change  \n",
       "98                      Success, God, Mother  \n",
       "99       Inspirational, Motivational, Change  \n",
       "\n",
       "[100 rows x 3 columns]"
      ]
     },
     "execution_count": 520,
     "metadata": {},
     "output_type": "execute_result"
    }
   ],
   "source": [
    "df=pd.DataFrame({\"Quote\":Quote,\"Aurthor\":Aurthor,\"Type of Quote\":Type_of_Quote})\n",
    "df"
   ]
  },
  {
   "cell_type": "code",
   "execution_count": 521,
   "id": "6e37343a",
   "metadata": {},
   "outputs": [],
   "source": [
    "#Q9.Ans:-"
   ]
  },
  {
   "cell_type": "code",
   "execution_count": 552,
   "id": "08b6c713",
   "metadata": {},
   "outputs": [],
   "source": [
    "driver=webdriver.Chrome()"
   ]
  },
  {
   "cell_type": "code",
   "execution_count": 553,
   "id": "86c2a06c",
   "metadata": {},
   "outputs": [],
   "source": [
    "driver.get(\"https://www.jagranjosh.com/\")"
   ]
  },
  {
   "cell_type": "code",
   "execution_count": 565,
   "id": "6663e17b",
   "metadata": {},
   "outputs": [],
   "source": [
    "Search=driver.find_element(By.XPATH,\"/html/body/div/header/nav/div/div/div[3]/ul/li[3]/a\")\n",
    "Search.click()"
   ]
  },
  {
   "cell_type": "code",
   "execution_count": 566,
   "id": "587b2d6c",
   "metadata": {},
   "outputs": [],
   "source": [
    "Search=driver.find_element(By.XPATH,\"/html/body/div/div[7]/section[7]/div[1]/span/a\")\n",
    "Search.click()"
   ]
  },
  {
   "cell_type": "code",
   "execution_count": 578,
   "id": "e2038223",
   "metadata": {},
   "outputs": [],
   "source": [
    "Search=driver.find_element(By.XPATH,\"/html/body/div[1]/main/div[1]/div[1]/section/div/ul/li[6]/article/h3/a\")\n",
    "Search.click()"
   ]
  },
  {
   "cell_type": "code",
   "execution_count": 586,
   "id": "9b67e87d",
   "metadata": {},
   "outputs": [],
   "source": [
    "Name=[]\n",
    "NM=driver.find_elements(By.XPATH,'//div[@class=\"TableData\"]//a')\n",
    "for i in NM[0:9]:\n",
    "    NM=i.text\n",
    "    Name.append(NM)"
   ]
  },
  {
   "cell_type": "code",
   "execution_count": 591,
   "id": "d006d404",
   "metadata": {},
   "outputs": [],
   "source": [
    "Term_of_office=[]\n",
    "TOO=driver.find_elements(By.XPATH,'//div[@class=\"TableData\"]//div/span')\n",
    "for i in TOO[0:9]:\n",
    "    TOO=i.text\n",
    "    Term_of_office.append(TOO)"
   ]
  },
  {
   "cell_type": "code",
   "execution_count": 592,
   "id": "77e0c4f3",
   "metadata": {},
   "outputs": [
    {
     "data": {
      "text/html": [
       "<div>\n",
       "<style scoped>\n",
       "    .dataframe tbody tr th:only-of-type {\n",
       "        vertical-align: middle;\n",
       "    }\n",
       "\n",
       "    .dataframe tbody tr th {\n",
       "        vertical-align: top;\n",
       "    }\n",
       "\n",
       "    .dataframe thead th {\n",
       "        text-align: right;\n",
       "    }\n",
       "</style>\n",
       "<table border=\"1\" class=\"dataframe\">\n",
       "  <thead>\n",
       "    <tr style=\"text-align: right;\">\n",
       "      <th></th>\n",
       "      <th>Name</th>\n",
       "      <th>Term_of_office</th>\n",
       "    </tr>\n",
       "  </thead>\n",
       "  <tbody>\n",
       "    <tr>\n",
       "      <th>0</th>\n",
       "      <td>Jawahar Lal Nehru</td>\n",
       "      <td>15 August 1947 to 27 May 1964</td>\n",
       "    </tr>\n",
       "    <tr>\n",
       "      <th>1</th>\n",
       "      <td>Indira Gandhi</td>\n",
       "      <td>16 years, 286 days</td>\n",
       "    </tr>\n",
       "    <tr>\n",
       "      <th>2</th>\n",
       "      <td>Indira Gandhi</td>\n",
       "      <td>27 May 1964 to 9 June 1964,</td>\n",
       "    </tr>\n",
       "    <tr>\n",
       "      <th>3</th>\n",
       "      <td>Rajiv Gandhi</td>\n",
       "      <td>13 days</td>\n",
       "    </tr>\n",
       "    <tr>\n",
       "      <th>4</th>\n",
       "      <td>Chandra Shekhar</td>\n",
       "      <td>9 June 1964 to 11 January 1966</td>\n",
       "    </tr>\n",
       "    <tr>\n",
       "      <th>5</th>\n",
       "      <td>Atal Bihari Vajpayee</td>\n",
       "      <td>1 year, 216 days</td>\n",
       "    </tr>\n",
       "    <tr>\n",
       "      <th>6</th>\n",
       "      <td>Atal Bihari Vajpayee</td>\n",
       "      <td>24 January 1966 to 24 March 1977</td>\n",
       "    </tr>\n",
       "    <tr>\n",
       "      <th>7</th>\n",
       "      <td>Manmohan Singh</td>\n",
       "      <td>11 years, 59 days</td>\n",
       "    </tr>\n",
       "    <tr>\n",
       "      <th>8</th>\n",
       "      <td>Narendra Modi</td>\n",
       "      <td>24 March 1977 to  28 July 1979</td>\n",
       "    </tr>\n",
       "  </tbody>\n",
       "</table>\n",
       "</div>"
      ],
      "text/plain": [
       "                   Name                    Term_of_office\n",
       "0     Jawahar Lal Nehru     15 August 1947 to 27 May 1964\n",
       "1         Indira Gandhi                16 years, 286 days\n",
       "2         Indira Gandhi       27 May 1964 to 9 June 1964,\n",
       "3          Rajiv Gandhi                           13 days\n",
       "4       Chandra Shekhar    9 June 1964 to 11 January 1966\n",
       "5  Atal Bihari Vajpayee                  1 year, 216 days\n",
       "6  Atal Bihari Vajpayee  24 January 1966 to 24 March 1977\n",
       "7        Manmohan Singh                 11 years, 59 days\n",
       "8         Narendra Modi   24 March 1977 to  28 July 1979 "
      ]
     },
     "execution_count": 592,
     "metadata": {},
     "output_type": "execute_result"
    }
   ],
   "source": [
    "df=pd.DataFrame({\"Name\":Name,\"Term_of_office\":Term_of_office})\n",
    "df"
   ]
  },
  {
   "cell_type": "code",
   "execution_count": null,
   "id": "c293b23a",
   "metadata": {},
   "outputs": [],
   "source": []
  },
  {
   "cell_type": "code",
   "execution_count": null,
   "id": "4213e5a7",
   "metadata": {},
   "outputs": [],
   "source": [
    "#Q10.Ans:-"
   ]
  },
  {
   "cell_type": "code",
   "execution_count": 527,
   "id": "637fc0c6",
   "metadata": {},
   "outputs": [],
   "source": [
    "driver=webdriver.Chrome()"
   ]
  },
  {
   "cell_type": "code",
   "execution_count": 528,
   "id": "21b2ac59",
   "metadata": {},
   "outputs": [],
   "source": [
    "driver.get(\"https://www.motor1.com/\")"
   ]
  },
  {
   "cell_type": "code",
   "execution_count": 533,
   "id": "9536b2b7",
   "metadata": {},
   "outputs": [],
   "source": [
    "Product=driver.find_element(By.XPATH,\"/html/body/div[10]/div[2]/div/div/div[3]/div/div/div/form/input\")\n",
    "Product.send_keys(\"50 Most expensive cars in the world\")"
   ]
  },
  {
   "cell_type": "code",
   "execution_count": 534,
   "id": "065b5e3b",
   "metadata": {},
   "outputs": [],
   "source": [
    "Search=driver.find_element(By.XPATH,\"/html/body/div[10]/div[2]/div/div/div[3]/div/div/div/form/button[1]\")\n",
    "Search.click()"
   ]
  },
  {
   "cell_type": "code",
   "execution_count": 535,
   "id": "b15ab273",
   "metadata": {},
   "outputs": [],
   "source": [
    "Search=driver.find_element(By.XPATH,\"/html/body/div[10]/div[9]/div/div[1]/div/div/div[1]/div/div[1]/h3/a\")\n",
    "Search.click()"
   ]
  },
  {
   "cell_type": "code",
   "execution_count": 548,
   "id": "ed42991e",
   "metadata": {},
   "outputs": [],
   "source": [
    "Car_Name=[]\n",
    "CN=driver.find_elements(By.XPATH,'//div[@class=\"postBody description e-content\"]/h3')\n",
    "for i in CN[0:50]:\n",
    "    CN=i.text\n",
    "    Car_Name.append(CN)"
   ]
  },
  {
   "cell_type": "code",
   "execution_count": 549,
   "id": "fd772114",
   "metadata": {},
   "outputs": [],
   "source": [
    "Price=[]\n",
    "PR=driver.find_elements(By.XPATH,'//div[@class=\"postBody description e-content\"]/p/strong')\n",
    "for i in PR:\n",
    "    PR=i.text\n",
    "    Price.append(PR)"
   ]
  },
  {
   "cell_type": "code",
   "execution_count": 551,
   "id": "809854c0",
   "metadata": {},
   "outputs": [
    {
     "data": {
      "text/html": [
       "<div>\n",
       "<style scoped>\n",
       "    .dataframe tbody tr th:only-of-type {\n",
       "        vertical-align: middle;\n",
       "    }\n",
       "\n",
       "    .dataframe tbody tr th {\n",
       "        vertical-align: top;\n",
       "    }\n",
       "\n",
       "    .dataframe thead th {\n",
       "        text-align: right;\n",
       "    }\n",
       "</style>\n",
       "<table border=\"1\" class=\"dataframe\">\n",
       "  <thead>\n",
       "    <tr style=\"text-align: right;\">\n",
       "      <th></th>\n",
       "      <th>Car Name</th>\n",
       "      <th>Price</th>\n",
       "    </tr>\n",
       "  </thead>\n",
       "  <tbody>\n",
       "    <tr>\n",
       "      <th>0</th>\n",
       "      <td>Aston Martin Valour</td>\n",
       "      <td>Price: $1.5 Million</td>\n",
       "    </tr>\n",
       "    <tr>\n",
       "      <th>1</th>\n",
       "      <td>McLaren Elva</td>\n",
       "      <td>Price: $1.7 Million</td>\n",
       "    </tr>\n",
       "    <tr>\n",
       "      <th>2</th>\n",
       "      <td>Czinger 21C</td>\n",
       "      <td>Price: $1.7 Million</td>\n",
       "    </tr>\n",
       "    <tr>\n",
       "      <th>3</th>\n",
       "      <td>Ferrari Monza</td>\n",
       "      <td>Price: $1.7 Million</td>\n",
       "    </tr>\n",
       "    <tr>\n",
       "      <th>4</th>\n",
       "      <td>Gordon Murray T.33</td>\n",
       "      <td>Price: $1.7 Million</td>\n",
       "    </tr>\n",
       "    <tr>\n",
       "      <th>5</th>\n",
       "      <td>Koenigsegg Gemera</td>\n",
       "      <td>Price: $1.7 Million</td>\n",
       "    </tr>\n",
       "    <tr>\n",
       "      <th>6</th>\n",
       "      <td>Zenvo TSR-S</td>\n",
       "      <td>Price: $1.7 Million</td>\n",
       "    </tr>\n",
       "    <tr>\n",
       "      <th>7</th>\n",
       "      <td>Hennessey Venom F5</td>\n",
       "      <td>Price: $1.8 Million</td>\n",
       "    </tr>\n",
       "    <tr>\n",
       "      <th>8</th>\n",
       "      <td>Bentley Bacalar</td>\n",
       "      <td>Price: $1.9 Million</td>\n",
       "    </tr>\n",
       "    <tr>\n",
       "      <th>9</th>\n",
       "      <td>Hispano Suiza Carmen Boulogne</td>\n",
       "      <td>Price: $1.9 Million</td>\n",
       "    </tr>\n",
       "    <tr>\n",
       "      <th>10</th>\n",
       "      <td>Bentley Mulliner Batur</td>\n",
       "      <td>Price: $2.0 Million</td>\n",
       "    </tr>\n",
       "    <tr>\n",
       "      <th>11</th>\n",
       "      <td>Deus Vayanne</td>\n",
       "      <td>Price: $2.0 Million</td>\n",
       "    </tr>\n",
       "    <tr>\n",
       "      <th>12</th>\n",
       "      <td>SSC Tuatara</td>\n",
       "      <td>Price: $2.0 Million</td>\n",
       "    </tr>\n",
       "    <tr>\n",
       "      <th>13</th>\n",
       "      <td>Lotus Evija</td>\n",
       "      <td>Price: $2.1 Million</td>\n",
       "    </tr>\n",
       "    <tr>\n",
       "      <th>14</th>\n",
       "      <td>Aston Martin Vulcan</td>\n",
       "      <td>Price: $2.3 Million</td>\n",
       "    </tr>\n",
       "    <tr>\n",
       "      <th>15</th>\n",
       "      <td>Delage D12</td>\n",
       "      <td>Price: $2.3 Million</td>\n",
       "    </tr>\n",
       "    <tr>\n",
       "      <th>16</th>\n",
       "      <td>Ferrari Daytona SP3</td>\n",
       "      <td>Price: $2.3 Million</td>\n",
       "    </tr>\n",
       "    <tr>\n",
       "      <th>17</th>\n",
       "      <td>McLaren Speedtail</td>\n",
       "      <td>Price: $2.3 Million</td>\n",
       "    </tr>\n",
       "    <tr>\n",
       "      <th>18</th>\n",
       "      <td>Rimac Nevera</td>\n",
       "      <td>Price: $2.4 Million</td>\n",
       "    </tr>\n",
       "    <tr>\n",
       "      <th>19</th>\n",
       "      <td>Pagani Utopia</td>\n",
       "      <td>Price: $2.5 Million</td>\n",
       "    </tr>\n",
       "    <tr>\n",
       "      <th>20</th>\n",
       "      <td>Pininfarina Battista</td>\n",
       "      <td>Price: $2.5 Million</td>\n",
       "    </tr>\n",
       "    <tr>\n",
       "      <th>21</th>\n",
       "      <td>Gordon Murray T.50</td>\n",
       "      <td>Price: $2.6 Million</td>\n",
       "    </tr>\n",
       "    <tr>\n",
       "      <th>22</th>\n",
       "      <td>Lamborghini Countach</td>\n",
       "      <td>Price: $2.6 Million</td>\n",
       "    </tr>\n",
       "    <tr>\n",
       "      <th>23</th>\n",
       "      <td>Mercedes-AMG Project One</td>\n",
       "      <td>Price: $2.7 Million</td>\n",
       "    </tr>\n",
       "    <tr>\n",
       "      <th>24</th>\n",
       "      <td>Zenvo Aurora</td>\n",
       "      <td>Price: $2.8 Million</td>\n",
       "    </tr>\n",
       "    <tr>\n",
       "      <th>25</th>\n",
       "      <td>Aston Martin Victor</td>\n",
       "      <td>Price: $3.0 Million</td>\n",
       "    </tr>\n",
       "    <tr>\n",
       "      <th>26</th>\n",
       "      <td>Hennessey Venom F5 Roadster</td>\n",
       "      <td>$3.0 Million</td>\n",
       "    </tr>\n",
       "    <tr>\n",
       "      <th>27</th>\n",
       "      <td>Koenigsegg Jesko</td>\n",
       "      <td>Price: $3.0 Million</td>\n",
       "    </tr>\n",
       "    <tr>\n",
       "      <th>28</th>\n",
       "      <td>Aston Martin Valkyrie</td>\n",
       "      <td>Price: $3.2 Million</td>\n",
       "    </tr>\n",
       "    <tr>\n",
       "      <th>29</th>\n",
       "      <td>W Motors Lykan Hypersport</td>\n",
       "      <td>Price: $3.4 Million</td>\n",
       "    </tr>\n",
       "    <tr>\n",
       "      <th>30</th>\n",
       "      <td>McLaren Solus</td>\n",
       "      <td>$3.5 Million</td>\n",
       "    </tr>\n",
       "    <tr>\n",
       "      <th>31</th>\n",
       "      <td>Lamborghini Sian</td>\n",
       "      <td>Price: $3.6 million</td>\n",
       "    </tr>\n",
       "    <tr>\n",
       "      <th>32</th>\n",
       "      <td>Koenigsegg CC850</td>\n",
       "      <td>Price: $3.7 Million</td>\n",
       "    </tr>\n",
       "    <tr>\n",
       "      <th>33</th>\n",
       "      <td>Bugatti Chiron Super Sport 300+</td>\n",
       "      <td>Price: $3.9 Million</td>\n",
       "    </tr>\n",
       "    <tr>\n",
       "      <th>34</th>\n",
       "      <td>Lamborghini Veneno</td>\n",
       "      <td>Price: $4.5 Million</td>\n",
       "    </tr>\n",
       "    <tr>\n",
       "      <th>35</th>\n",
       "      <td>Bugatti Bolide</td>\n",
       "      <td>Price: $4.7 Million</td>\n",
       "    </tr>\n",
       "    <tr>\n",
       "      <th>36</th>\n",
       "      <td>Pininfarina B95 Speedster</td>\n",
       "      <td>Price: $4.8 Million</td>\n",
       "    </tr>\n",
       "    <tr>\n",
       "      <th>37</th>\n",
       "      <td>Bugatti Mistral</td>\n",
       "      <td>Price: $5.0 Million</td>\n",
       "    </tr>\n",
       "    <tr>\n",
       "      <th>38</th>\n",
       "      <td>Pagani Huayra Imola</td>\n",
       "      <td>Price: $5.4 Million</td>\n",
       "    </tr>\n",
       "    <tr>\n",
       "      <th>39</th>\n",
       "      <td>Bugatti Divo</td>\n",
       "      <td>Price: $5.8 Million</td>\n",
       "    </tr>\n",
       "    <tr>\n",
       "      <th>40</th>\n",
       "      <td>SP Automotive Chaos</td>\n",
       "      <td>Price: $6.4 Million</td>\n",
       "    </tr>\n",
       "    <tr>\n",
       "      <th>41</th>\n",
       "      <td>Pagani Codalunga</td>\n",
       "      <td>Price: $7.4 Million</td>\n",
       "    </tr>\n",
       "    <tr>\n",
       "      <th>42</th>\n",
       "      <td>777 Hypercar</td>\n",
       "      <td>Price: $7.5 Million</td>\n",
       "    </tr>\n",
       "    <tr>\n",
       "      <th>43</th>\n",
       "      <td>Mercedes-Maybach Exelero</td>\n",
       "      <td>Price: $8.0 Million</td>\n",
       "    </tr>\n",
       "    <tr>\n",
       "      <th>44</th>\n",
       "      <td>Bugatti Centodieci</td>\n",
       "      <td>Price: $9.0 Million</td>\n",
       "    </tr>\n",
       "    <tr>\n",
       "      <th>45</th>\n",
       "      <td>Bugatti Chiron Profilée</td>\n",
       "      <td>Price: $10.8 Million</td>\n",
       "    </tr>\n",
       "    <tr>\n",
       "      <th>46</th>\n",
       "      <td>Rolls-Royce Sweptail</td>\n",
       "      <td>Price: $12.8 Million</td>\n",
       "    </tr>\n",
       "    <tr>\n",
       "      <th>47</th>\n",
       "      <td>Bugatti La Voiture Noire</td>\n",
       "      <td>Price: $13.4 Million</td>\n",
       "    </tr>\n",
       "    <tr>\n",
       "      <th>48</th>\n",
       "      <td>Rolls-Royce Boat Tail*</td>\n",
       "      <td>Price: $28.0 Million (est.)</td>\n",
       "    </tr>\n",
       "    <tr>\n",
       "      <th>49</th>\n",
       "      <td>Rolls-Royce La Rose Noire Droptail</td>\n",
       "      <td>Price: $30 Million (est.)</td>\n",
       "    </tr>\n",
       "  </tbody>\n",
       "</table>\n",
       "</div>"
      ],
      "text/plain": [
       "                              Car Name                        Price\n",
       "0                  Aston Martin Valour          Price: $1.5 Million\n",
       "1                         McLaren Elva          Price: $1.7 Million\n",
       "2                          Czinger 21C          Price: $1.7 Million\n",
       "3                        Ferrari Monza          Price: $1.7 Million\n",
       "4                   Gordon Murray T.33          Price: $1.7 Million\n",
       "5                    Koenigsegg Gemera          Price: $1.7 Million\n",
       "6                          Zenvo TSR-S          Price: $1.7 Million\n",
       "7                   Hennessey Venom F5          Price: $1.8 Million\n",
       "8                      Bentley Bacalar          Price: $1.9 Million\n",
       "9        Hispano Suiza Carmen Boulogne          Price: $1.9 Million\n",
       "10              Bentley Mulliner Batur          Price: $2.0 Million\n",
       "11                        Deus Vayanne          Price: $2.0 Million\n",
       "12                         SSC Tuatara          Price: $2.0 Million\n",
       "13                         Lotus Evija          Price: $2.1 Million\n",
       "14                 Aston Martin Vulcan          Price: $2.3 Million\n",
       "15                          Delage D12          Price: $2.3 Million\n",
       "16                 Ferrari Daytona SP3          Price: $2.3 Million\n",
       "17                   McLaren Speedtail          Price: $2.3 Million\n",
       "18                        Rimac Nevera          Price: $2.4 Million\n",
       "19                       Pagani Utopia          Price: $2.5 Million\n",
       "20                Pininfarina Battista          Price: $2.5 Million\n",
       "21                  Gordon Murray T.50          Price: $2.6 Million\n",
       "22                Lamborghini Countach          Price: $2.6 Million\n",
       "23            Mercedes-AMG Project One          Price: $2.7 Million\n",
       "24                        Zenvo Aurora          Price: $2.8 Million\n",
       "25                 Aston Martin Victor          Price: $3.0 Million\n",
       "26         Hennessey Venom F5 Roadster                 $3.0 Million\n",
       "27                    Koenigsegg Jesko          Price: $3.0 Million\n",
       "28               Aston Martin Valkyrie          Price: $3.2 Million\n",
       "29           W Motors Lykan Hypersport          Price: $3.4 Million\n",
       "30                       McLaren Solus                 $3.5 Million\n",
       "31                    Lamborghini Sian          Price: $3.6 million\n",
       "32                    Koenigsegg CC850          Price: $3.7 Million\n",
       "33     Bugatti Chiron Super Sport 300+          Price: $3.9 Million\n",
       "34                  Lamborghini Veneno          Price: $4.5 Million\n",
       "35                      Bugatti Bolide          Price: $4.7 Million\n",
       "36           Pininfarina B95 Speedster          Price: $4.8 Million\n",
       "37                     Bugatti Mistral          Price: $5.0 Million\n",
       "38                 Pagani Huayra Imola          Price: $5.4 Million\n",
       "39                        Bugatti Divo          Price: $5.8 Million\n",
       "40                 SP Automotive Chaos          Price: $6.4 Million\n",
       "41                    Pagani Codalunga          Price: $7.4 Million\n",
       "42                        777 Hypercar          Price: $7.5 Million\n",
       "43            Mercedes-Maybach Exelero          Price: $8.0 Million\n",
       "44                  Bugatti Centodieci          Price: $9.0 Million\n",
       "45             Bugatti Chiron Profilée         Price: $10.8 Million\n",
       "46                Rolls-Royce Sweptail         Price: $12.8 Million\n",
       "47            Bugatti La Voiture Noire         Price: $13.4 Million\n",
       "48              Rolls-Royce Boat Tail*  Price: $28.0 Million (est.)\n",
       "49  Rolls-Royce La Rose Noire Droptail    Price: $30 Million (est.)"
      ]
     },
     "execution_count": 551,
     "metadata": {},
     "output_type": "execute_result"
    }
   ],
   "source": [
    "df=pd.DataFrame({\"Car Name\":Car_Name,\"Price\":Price})\n",
    "df"
   ]
  },
  {
   "cell_type": "code",
   "execution_count": null,
   "id": "9d2a8aa4",
   "metadata": {},
   "outputs": [],
   "source": []
  }
 ],
 "metadata": {
  "kernelspec": {
   "display_name": "Python 3 (ipykernel)",
   "language": "python",
   "name": "python3"
  },
  "language_info": {
   "codemirror_mode": {
    "name": "ipython",
    "version": 3
   },
   "file_extension": ".py",
   "mimetype": "text/x-python",
   "name": "python",
   "nbconvert_exporter": "python",
   "pygments_lexer": "ipython3",
   "version": "3.10.9"
  }
 },
 "nbformat": 4,
 "nbformat_minor": 5
}
