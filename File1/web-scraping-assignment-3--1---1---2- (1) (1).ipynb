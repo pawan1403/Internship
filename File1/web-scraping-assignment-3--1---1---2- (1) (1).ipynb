{
 "cells": [
  {
   "cell_type": "code",
   "execution_count": 32,
   "id": "969837e4",
   "metadata": {},
   "outputs": [
    {
     "name": "stdout",
     "output_type": "stream",
     "text": [
      "Requirement already satisfied: bs4 in c:\\users\\megha\\anaconda3\\lib\\site-packages (0.0.1)\n",
      "Requirement already satisfied: beautifulsoup4 in c:\\users\\megha\\anaconda3\\lib\\site-packages (from bs4) (4.11.1)\n",
      "Requirement already satisfied: soupsieve>1.2 in c:\\users\\megha\\anaconda3\\lib\\site-packages (from beautifulsoup4->bs4) (2.3.2.post1)\n",
      "Requirement already satisfied: requests in c:\\users\\megha\\anaconda3\\lib\\site-packages (2.28.1)\n",
      "Requirement already satisfied: certifi>=2017.4.17 in c:\\users\\megha\\anaconda3\\lib\\site-packages (from requests) (2022.12.7)\n",
      "Requirement already satisfied: urllib3<1.27,>=1.21.1 in c:\\users\\megha\\anaconda3\\lib\\site-packages (from requests) (1.26.14)\n",
      "Requirement already satisfied: idna<4,>=2.5 in c:\\users\\megha\\anaconda3\\lib\\site-packages (from requests) (3.4)\n",
      "Requirement already satisfied: charset-normalizer<3,>=2 in c:\\users\\megha\\anaconda3\\lib\\site-packages (from requests) (2.0.4)\n"
     ]
    }
   ],
   "source": [
    "!pip install bs4\n",
    "!pip install requests"
   ]
  },
  {
   "cell_type": "code",
   "execution_count": 55,
   "id": "ad8fe316",
   "metadata": {},
   "outputs": [],
   "source": [
    "import selenium\n",
    "import pandas as pd\n",
    "from selenium import webdriver\n",
    "import warnings\n",
    "warnings.filterwarnings('ignore')\n",
    "from selenium.webdriver.common.by import By\n",
    "from selenium.common.exceptions import NoSuchElementException\n",
    "import time"
   ]
  },
  {
   "cell_type": "code",
   "execution_count": 56,
   "id": "d425540a",
   "metadata": {},
   "outputs": [],
   "source": [
    "#Q1 Ans-"
   ]
  },
  {
   "cell_type": "code",
   "execution_count": 57,
   "id": "3cb450fb",
   "metadata": {},
   "outputs": [
    {
     "name": "stdout",
     "output_type": "stream",
     "text": [
      "enter your item:Guitar\n"
     ]
    }
   ],
   "source": [
    "Val=input(\"enter your item:\")"
   ]
  },
  {
   "cell_type": "code",
   "execution_count": 58,
   "id": "755ee4e3",
   "metadata": {},
   "outputs": [],
   "source": [
    "#Q2 Ans-"
   ]
  },
  {
   "cell_type": "code",
   "execution_count": 161,
   "id": "56f1fb59",
   "metadata": {},
   "outputs": [],
   "source": [
    "driver =webdriver.Chrome()"
   ]
  },
  {
   "cell_type": "code",
   "execution_count": 162,
   "id": "dd282c2e",
   "metadata": {},
   "outputs": [],
   "source": [
    "driver.get(\"https://www.amazon.in/\")"
   ]
  },
  {
   "cell_type": "code",
   "execution_count": 164,
   "id": "e42d0212",
   "metadata": {},
   "outputs": [],
   "source": [
    "Product=driver.find_element(By.XPATH,\"/html/body/div[1]/header/div/div[1]/div[2]/div/form/div[2]/div[1]/input\")\n",
    "Product.send_keys(\"Guitar\")"
   ]
  },
  {
   "cell_type": "code",
   "execution_count": 165,
   "id": "bbe44059",
   "metadata": {},
   "outputs": [],
   "source": [
    "Search=driver.find_element(By.XPATH,\"/html/body/div[1]/header/div/div[1]/div[2]/div/form/div[3]/div/span/input\")\n",
    "Search.click()"
   ]
  },
  {
   "cell_type": "code",
   "execution_count": 166,
   "id": "003f2222",
   "metadata": {},
   "outputs": [],
   "source": [
    "Product_urls=[]\n",
    "start=0\n",
    "end=3\n",
    "for page in range(start,end):\n",
    "    url=driver.find_elements(By.XPATH,'//a[@class=\"a-link-normal s-no-outline\"]')\n",
    "    for i in url:\n",
    "        Product_urls.append(i.get_attribute(\"href\"))\n",
    "next_button=driver.find_element(By.XPATH,'//a[@class=\"s-pagination-item s-pagination-next s-pagination-button s-pagination-separator\"]')\n",
    "next_button.click()"
   ]
  },
  {
   "cell_type": "code",
   "execution_count": 98,
   "id": "70068d35",
   "metadata": {},
   "outputs": [],
   "source": [
    "brand=[]\n",
    "for url in Product_urls:\n",
    "    driver.get(url)\n",
    "    time.sleep(2)\n",
    "    \n",
    "    try:\n",
    "        brand=driver.find_element(By.XPATH,'//div[@id=\"productOverview_feature_div\"]/div/table/tbody/tr/td[2]/span')\n",
    "        Brand.append(brand.text)\n",
    "    except NoSuchElementException:\n",
    "        Brand.append('-')\n",
    "    try:\n",
    "        price=driver.find_element(By.XPATH,'//div[@class=\"a-section a-spacing-none aok-align-center aok-relative\"]/span/span/span[2]')\n",
    "        Price.append(price.text)\n",
    "    except NoSuchElementException:\n",
    "        Price.append('-')\n",
    "    "
   ]
  },
  {
   "cell_type": "code",
   "execution_count": null,
   "id": "f743b953",
   "metadata": {},
   "outputs": [],
   "source": [
    "Replacement=[]\n",
    "for url in Product_urls:\n",
    "    driver.get(url)\n",
    "    time.sleep(2)\n",
    "    try:\n",
    "        replacement=driver.find_element(By.XPATH,'//span[@class=\"a-declarative\"]/div[2]/span')\n",
    "        Replacement.append(replacement.text)\n",
    "    except NoSuchElementException:\n",
    "        Replacement.append('-')        \n",
    "\n",
    "availability=[]\n",
    "try:\n",
    "    Availability=driver.find_element(By.XPATH,'//div[@id=\"availability\"]/span')\n",
    "    availability.append(Availability.text)\n",
    "except NoSuchElementException:\n",
    "    availability.append('-')\n",
    "    \n",
    "expected_delivery=[]\n",
    "try:\n",
    "    expected_delivery=driver.find_element(By.XPATH,'//span[@class=\"a-text-bold\"]')\n",
    "    Expected_delivery.append(expected_delivery.text)\n",
    "except NoSuchElementException:\n",
    "    Expected_delivery.append('-')"
   ]
  },
  {
   "cell_type": "code",
   "execution_count": 49,
   "id": "cb63fca6",
   "metadata": {},
   "outputs": [],
   "source": [
    "# Q3 Ans:-"
   ]
  },
  {
   "cell_type": "code",
   "execution_count": 184,
   "id": "36706197",
   "metadata": {},
   "outputs": [],
   "source": [
    "driver=webdriver.Chrome()"
   ]
  },
  {
   "cell_type": "code",
   "execution_count": 185,
   "id": "f838972f",
   "metadata": {},
   "outputs": [],
   "source": [
    "driver.get('https://images.google.com')"
   ]
  },
  {
   "cell_type": "code",
   "execution_count": 186,
   "id": "f8b219e4",
   "metadata": {},
   "outputs": [],
   "source": [
    "Product=driver.find_element(By.XPATH,\"/html/body/div[1]/div[3]/form/div[1]/div[1]/div[1]/div/div[2]/textarea\")\n",
    "Product.send_keys(\"Fruit\")"
   ]
  },
  {
   "cell_type": "code",
   "execution_count": 187,
   "id": "d1dd4742",
   "metadata": {},
   "outputs": [],
   "source": [
    "Search=driver.find_element(By.XPATH,\"/html/body/div[1]/div[3]/form/div[1]/div[1]/div[1]/button/div\")\n",
    "Search.click()"
   ]
  },
  {
   "cell_type": "code",
   "execution_count": 197,
   "id": "5a42b4ad",
   "metadata": {},
   "outputs": [],
   "source": [
    "for _ in range (20):\n",
    "    driver.execute_script(\"window.scrollBy(0,500)\")\n",
    "    \n",
    "images=driver.find_elements(By.XPATH,'//img[@class=\"rg_i Q4LuWd\"]')\n",
    "\n",
    "img_urls=[]\n",
    "for image in images:\n",
    "    source=image.get_attribute('src')\n",
    "    if source is not None:\n",
    "        if (source [0:4]=='http'):\n",
    "            img_urls.append(source)\n",
    "            \n",
    "for i in range (len(img_urls)):\n",
    "    if i > 10:\n",
    "        break\n",
    "        print(\"Downloading {0} of {1} images\" . format(i,10))\n",
    "        response=request.get(img_urls[i])\n",
    "        file=open(r\"C:\\Users\\Megha\\Documents\\folder\"+str(i)+\".jpg\", \"wb\")\n",
    "        file.write(response.content)\n",
    "        "
   ]
  },
  {
   "cell_type": "code",
   "execution_count": null,
   "id": "59cdd706",
   "metadata": {},
   "outputs": [],
   "source": [
    "#Q4 Ans:-"
   ]
  },
  {
   "cell_type": "code",
   "execution_count": 178,
   "id": "bf99f71a",
   "metadata": {},
   "outputs": [],
   "source": [
    "driver=webdriver.Chrome()"
   ]
  },
  {
   "cell_type": "code",
   "execution_count": 179,
   "id": "855c0ae5",
   "metadata": {},
   "outputs": [],
   "source": [
    "driver.get('https://www.flipkart.com')"
   ]
  },
  {
   "cell_type": "code",
   "execution_count": 181,
   "id": "01ed2f9d",
   "metadata": {},
   "outputs": [],
   "source": [
    "Product=driver.find_element(By.XPATH,\"/html/body/div[1]/div/div[1]/div/div/div/div/div[1]/div/div[1]/div/div[1]/div[1]/header/div[1]/div[2]/form/div/div/input\")\n",
    "Product.send_keys(\"Oneplus Nord 3\")"
   ]
  },
  {
   "cell_type": "code",
   "execution_count": 183,
   "id": "82288293",
   "metadata": {},
   "outputs": [],
   "source": [
    "Search=driver.find_element(By.XPATH,\"/html/body/div[1]/div/div[1]/div/div/div/div/div[1]/div/div[1]/div/div[1]/div[1]/header/div[1]/div[2]/form/div/button\")\n",
    "Search.click()"
   ]
  },
  {
   "cell_type": "code",
   "execution_count": 189,
   "id": "1b4c18c1",
   "metadata": {},
   "outputs": [],
   "source": [
    "Brand_Name=[]\n",
    "Brand=driver.find_elements(By.CLASS_NAME,\"_4rR01T\")\n",
    "for i in Brand:\n",
    "    Brand=i.text\n",
    "    Brand_Name.append(Brand)"
   ]
  },
  {
   "cell_type": "code",
   "execution_count": 196,
   "id": "f077734e",
   "metadata": {},
   "outputs": [],
   "source": [
    "RAM=[]\n",
    "RM=driver.find_elements(By.XPATH,'//ul[@class=\"_1xgFaf\"]/li[1]')\n",
    "for i in RM:\n",
    "    RM=i.text\n",
    "    RAM.append(RM)"
   ]
  },
  {
   "cell_type": "code",
   "execution_count": 197,
   "id": "0ccded47",
   "metadata": {},
   "outputs": [],
   "source": [
    "Display=[]\n",
    "DS=driver.find_elements(By.XPATH,'//ul[@class=\"_1xgFaf\"]/li[2]')\n",
    "for i in DS:\n",
    "    DS=i.text\n",
    "    Display.append(DS)"
   ]
  },
  {
   "cell_type": "code",
   "execution_count": 198,
   "id": "144005ef",
   "metadata": {},
   "outputs": [],
   "source": [
    "Camera=[]\n",
    "CM=driver.find_elements(By.XPATH,'//ul[@class=\"_1xgFaf\"]/li[3]')\n",
    "for i in CM:\n",
    "    CM=i.text\n",
    "    Camera.append(CM)"
   ]
  },
  {
   "cell_type": "code",
   "execution_count": 199,
   "id": "2a27eeec",
   "metadata": {},
   "outputs": [],
   "source": [
    "Battery=[]\n",
    "BT=driver.find_elements(By.XPATH,'//ul[@class=\"_1xgFaf\"]/li[4]')\n",
    "for i in BT:\n",
    "    BT=i.text\n",
    "    Battery.append(BT)"
   ]
  },
  {
   "cell_type": "code",
   "execution_count": 206,
   "id": "b0ee5a30",
   "metadata": {},
   "outputs": [],
   "source": [
    "Price=[]\n",
    "PR=driver.find_elements(By.XPATH,'//div[@class=\"_30jeq3 _1_WHN1\"]')\n",
    "for i in PR:\n",
    "    PR=i.text\n",
    "    Price.append(PR)"
   ]
  },
  {
   "cell_type": "code",
   "execution_count": 207,
   "id": "613a2253",
   "metadata": {},
   "outputs": [],
   "source": [
    "Product_url=[]\n",
    "url=driver.find_elements(By.XPATH,'//div[@class=\"_2kHMtA\"]/a')\n",
    "for i in url:\n",
    "    Product_url.append(i.get_attribute('href'))\n"
   ]
  },
  {
   "cell_type": "code",
   "execution_count": 208,
   "id": "d7039aea",
   "metadata": {},
   "outputs": [
    {
     "data": {
      "text/plain": [
       "(24, 24, 24, 24, 24, 24, 24)"
      ]
     },
     "execution_count": 208,
     "metadata": {},
     "output_type": "execute_result"
    }
   ],
   "source": [
    "len(Brand_Name),len(RAM),len(Display),len(Camera),len(Battery),len(Price),len(Product_url)"
   ]
  },
  {
   "cell_type": "code",
   "execution_count": 209,
   "id": "52295003",
   "metadata": {},
   "outputs": [
    {
     "data": {
      "text/html": [
       "<div>\n",
       "<style scoped>\n",
       "    .dataframe tbody tr th:only-of-type {\n",
       "        vertical-align: middle;\n",
       "    }\n",
       "\n",
       "    .dataframe tbody tr th {\n",
       "        vertical-align: top;\n",
       "    }\n",
       "\n",
       "    .dataframe thead th {\n",
       "        text-align: right;\n",
       "    }\n",
       "</style>\n",
       "<table border=\"1\" class=\"dataframe\">\n",
       "  <thead>\n",
       "    <tr style=\"text-align: right;\">\n",
       "      <th></th>\n",
       "      <th>Brand Name</th>\n",
       "      <th>RAM</th>\n",
       "      <th>Display</th>\n",
       "      <th>Camera</th>\n",
       "      <th>Battery</th>\n",
       "      <th>Price</th>\n",
       "      <th>Product Url</th>\n",
       "    </tr>\n",
       "  </thead>\n",
       "  <tbody>\n",
       "    <tr>\n",
       "      <th>0</th>\n",
       "      <td>OnePlus Nord CE 3 Lite 5G (Pastel Lime, 256 GB)</td>\n",
       "      <td>8 GB RAM | 256 GB ROM</td>\n",
       "      <td>17.07 cm (6.72 inch) Display</td>\n",
       "      <td>108MP Rear Camera</td>\n",
       "      <td>5000 mAh Battery</td>\n",
       "      <td>₹20,830</td>\n",
       "      <td>https://www.flipkart.com/oneplus-nord-ce-3-lit...</td>\n",
       "    </tr>\n",
       "    <tr>\n",
       "      <th>1</th>\n",
       "      <td>OnePlus Nord CE 3 Lite 5G (Chromatic Gray, 256...</td>\n",
       "      <td>8 GB RAM | 256 GB ROM</td>\n",
       "      <td>17.07 cm (6.72 inch) Display</td>\n",
       "      <td>108MP Rear Camera</td>\n",
       "      <td>5000 mAh Battery</td>\n",
       "      <td>₹20,815</td>\n",
       "      <td>https://www.flipkart.com/oneplus-nord-ce-3-lit...</td>\n",
       "    </tr>\n",
       "    <tr>\n",
       "      <th>2</th>\n",
       "      <td>OnePlus Nord CE 3 Lite 5G (Pastel Lime, 128 GB)</td>\n",
       "      <td>8 GB RAM | 128 GB ROM</td>\n",
       "      <td>17.07 cm (6.72 inch) Display</td>\n",
       "      <td>108MP Rear Camera</td>\n",
       "      <td>5000 mAh Battery</td>\n",
       "      <td>₹19,369</td>\n",
       "      <td>https://www.flipkart.com/oneplus-nord-ce-3-lit...</td>\n",
       "    </tr>\n",
       "    <tr>\n",
       "      <th>3</th>\n",
       "      <td>OnePlus Nord CE 3 Lite 5G (Chromatic Gray, 128...</td>\n",
       "      <td>8 GB RAM | 128 GB ROM</td>\n",
       "      <td>17.07 cm (6.72 inch) Display</td>\n",
       "      <td>108MP Rear Camera</td>\n",
       "      <td>5000 mAh Battery</td>\n",
       "      <td>₹19,409</td>\n",
       "      <td>https://www.flipkart.com/oneplus-nord-ce-3-lit...</td>\n",
       "    </tr>\n",
       "    <tr>\n",
       "      <th>4</th>\n",
       "      <td>OnePlus Nord CE 3 Lite 5G (Chromatic Gray, 128...</td>\n",
       "      <td>8 GB RAM | 128 GB ROM</td>\n",
       "      <td>17.07 cm (6.72 inch) Display</td>\n",
       "      <td>108MP Rear Camera</td>\n",
       "      <td>5000 mAh Battery</td>\n",
       "      <td>₹19,689</td>\n",
       "      <td>https://www.flipkart.com/oneplus-nord-ce-3-lit...</td>\n",
       "    </tr>\n",
       "    <tr>\n",
       "      <th>5</th>\n",
       "      <td>OnePlus Nord CE 3 Lite 5G (Pastel lime, 256 GB)</td>\n",
       "      <td>8 GB RAM | 256 GB ROM</td>\n",
       "      <td>17.07 cm (6.72 inch) Display</td>\n",
       "      <td>108MP Rear Camera</td>\n",
       "      <td>5000 mAh Battery</td>\n",
       "      <td>₹21,112</td>\n",
       "      <td>https://www.flipkart.com/oneplus-nord-ce-3-lit...</td>\n",
       "    </tr>\n",
       "    <tr>\n",
       "      <th>6</th>\n",
       "      <td>OnePlus Nord CE 3 Lite 5G (Chromatic Gray, 256...</td>\n",
       "      <td>8 GB RAM | 256 GB ROM</td>\n",
       "      <td>17.07 cm (6.72 inch) Display</td>\n",
       "      <td>108MP Rear Camera</td>\n",
       "      <td>5000 mAh Battery</td>\n",
       "      <td>₹21,259</td>\n",
       "      <td>https://www.flipkart.com/oneplus-nord-ce-3-lit...</td>\n",
       "    </tr>\n",
       "    <tr>\n",
       "      <th>7</th>\n",
       "      <td>OnePlus Nord CE 3 Lite 5G (Pastel Lime, 128 GB)</td>\n",
       "      <td>8 GB RAM | 128 GB ROM</td>\n",
       "      <td>17.07 cm (6.72 inch) Display</td>\n",
       "      <td>108MP Rear Camera</td>\n",
       "      <td>5000 mAh Battery</td>\n",
       "      <td>₹19,384</td>\n",
       "      <td>https://www.flipkart.com/oneplus-nord-ce-3-lit...</td>\n",
       "    </tr>\n",
       "    <tr>\n",
       "      <th>8</th>\n",
       "      <td>OnePlus Nord CE3 5G (Grey Shimmer, 128 GB)</td>\n",
       "      <td>8 GB RAM | 128 GB ROM</td>\n",
       "      <td>17.02 cm (6.7 inch) Display</td>\n",
       "      <td>50MP Rear Camera</td>\n",
       "      <td>5000 mAh Battery</td>\n",
       "      <td>₹24,690</td>\n",
       "      <td>https://www.flipkart.com/oneplus-nord-ce3-5g-g...</td>\n",
       "    </tr>\n",
       "    <tr>\n",
       "      <th>9</th>\n",
       "      <td>OnePlus Nord CE3 5G (Aqua Surge, 256 GB)</td>\n",
       "      <td>12 GB RAM | 256 GB ROM</td>\n",
       "      <td>17.02 cm (6.7 inch) Display</td>\n",
       "      <td>50MP Rear Camera</td>\n",
       "      <td>5000 mAh Battery</td>\n",
       "      <td>₹28,999</td>\n",
       "      <td>https://www.flipkart.com/oneplus-nord-ce3-5g-a...</td>\n",
       "    </tr>\n",
       "    <tr>\n",
       "      <th>10</th>\n",
       "      <td>OnePlus Nord CE3 5G (Aqua Surge, 128 GB)</td>\n",
       "      <td>8 GB RAM | 128 GB ROM</td>\n",
       "      <td>17.02 cm (6.7 inch) Display</td>\n",
       "      <td>50MP Rear Camera | 50MP Front Camera</td>\n",
       "      <td>5000 mAh Battery</td>\n",
       "      <td>₹24,570</td>\n",
       "      <td>https://www.flipkart.com/oneplus-nord-ce3-5g-a...</td>\n",
       "    </tr>\n",
       "    <tr>\n",
       "      <th>11</th>\n",
       "      <td>OnePlus Nord 3 5G (Tempest Gray, 128 GB)</td>\n",
       "      <td>8 GB RAM | 128 GB ROM</td>\n",
       "      <td>17.12 cm (6.74 inch) Full HD+ Display</td>\n",
       "      <td>50MP Rear Camera</td>\n",
       "      <td>5000 mAh Battery</td>\n",
       "      <td>₹29,097</td>\n",
       "      <td>https://www.flipkart.com/oneplus-nord-3-5g-tem...</td>\n",
       "    </tr>\n",
       "    <tr>\n",
       "      <th>12</th>\n",
       "      <td>OnePlus Nord 3 5G (Misty Green, 128 GB)</td>\n",
       "      <td>8 GB RAM | 128 GB ROM</td>\n",
       "      <td>17.12 cm (6.74 inch) Display</td>\n",
       "      <td>50MP Rear Camera</td>\n",
       "      <td>5000 mAh Battery</td>\n",
       "      <td>₹28,145</td>\n",
       "      <td>https://www.flipkart.com/oneplus-nord-3-5g-mis...</td>\n",
       "    </tr>\n",
       "    <tr>\n",
       "      <th>13</th>\n",
       "      <td>OnePlus Nord 3 5G (Misty Green, 256 GB)</td>\n",
       "      <td>16 GB RAM | 256 GB ROM</td>\n",
       "      <td>17.12 cm (6.74 inch) Display</td>\n",
       "      <td>50MP Rear Camera</td>\n",
       "      <td>5000 mAh Battery</td>\n",
       "      <td>₹36,899</td>\n",
       "      <td>https://www.flipkart.com/oneplus-nord-3-5g-mis...</td>\n",
       "    </tr>\n",
       "    <tr>\n",
       "      <th>14</th>\n",
       "      <td>OnePlus Nord CE 3 Lite 5G (Pastel Lime, 256 GB)</td>\n",
       "      <td>8 GB RAM | 256 GB ROM</td>\n",
       "      <td>17.07 cm (6.72 inch) Display</td>\n",
       "      <td>108MP Rear Camera</td>\n",
       "      <td>5000 mAh Battery</td>\n",
       "      <td>₹21,400</td>\n",
       "      <td>https://www.flipkart.com/oneplus-nord-ce-3-lit...</td>\n",
       "    </tr>\n",
       "    <tr>\n",
       "      <th>15</th>\n",
       "      <td>OnePlus Nord 3 5G (Tempest Gray, 256 GB)</td>\n",
       "      <td>16 GB RAM | 256 GB ROM</td>\n",
       "      <td>17.12 cm (6.74 inch) Display</td>\n",
       "      <td>50MP Rear Camera</td>\n",
       "      <td>5000 mAh Battery</td>\n",
       "      <td>₹35,950</td>\n",
       "      <td>https://www.flipkart.com/oneplus-nord-3-5g-tem...</td>\n",
       "    </tr>\n",
       "    <tr>\n",
       "      <th>16</th>\n",
       "      <td>OnePlus Nord CE 3 Lite 5G (Chromatic Gray, 256...</td>\n",
       "      <td>8 GB RAM | 256 GB ROM</td>\n",
       "      <td>17.07 cm (6.72 inch) Display</td>\n",
       "      <td>108MP Rear Camera</td>\n",
       "      <td>5000 mAh Battery</td>\n",
       "      <td>₹21,487</td>\n",
       "      <td>https://www.flipkart.com/oneplus-nord-ce-3-lit...</td>\n",
       "    </tr>\n",
       "    <tr>\n",
       "      <th>17</th>\n",
       "      <td>OnePlus Nord CE 3 Lite 5G (Chromatic Gray, 128...</td>\n",
       "      <td>8 GB RAM | 128 GB ROM</td>\n",
       "      <td>17.07 cm (6.72 inch) Display</td>\n",
       "      <td>108MP Rear Camera</td>\n",
       "      <td>5000 mAh Battery</td>\n",
       "      <td>₹19,654</td>\n",
       "      <td>https://www.flipkart.com/oneplus-nord-ce-3-lit...</td>\n",
       "    </tr>\n",
       "    <tr>\n",
       "      <th>18</th>\n",
       "      <td>OnePlus Nord CE3 5G (Grey Shimmer, 256 GB)</td>\n",
       "      <td>12 GB RAM | 256 GB ROM</td>\n",
       "      <td>17.02 cm (6.7 inch) Display</td>\n",
       "      <td>50MP Rear Camera</td>\n",
       "      <td>5000 mAh Battery</td>\n",
       "      <td>₹24,599</td>\n",
       "      <td>https://www.flipkart.com/oneplus-nord-ce3-5g-g...</td>\n",
       "    </tr>\n",
       "    <tr>\n",
       "      <th>19</th>\n",
       "      <td>OnePlus N20 SE (JADE WAVE, 128 GB)</td>\n",
       "      <td>4 GB RAM | 128 GB ROM</td>\n",
       "      <td>16.66 cm (6.56 inch) Display</td>\n",
       "      <td>50MP Rear Camera</td>\n",
       "      <td>5000 mAh Battery</td>\n",
       "      <td>₹15,970</td>\n",
       "      <td>https://www.flipkart.com/oneplus-n20-se-jade-w...</td>\n",
       "    </tr>\n",
       "    <tr>\n",
       "      <th>20</th>\n",
       "      <td>OnePlus Nord (Blue Marble, 128 GB)</td>\n",
       "      <td>8 GB RAM | 128 GB ROM</td>\n",
       "      <td>16.36 cm (6.44 inch) Full HD+ Display</td>\n",
       "      <td>48MP + 8MP | 32MP + 8MP Dual Front Camera</td>\n",
       "      <td>4115 mAh Battery</td>\n",
       "      <td>₹24,790</td>\n",
       "      <td>https://www.flipkart.com/oneplus-nord-blue-mar...</td>\n",
       "    </tr>\n",
       "    <tr>\n",
       "      <th>21</th>\n",
       "      <td>OnePlus Nord (Gray Onyx, 128 GB)</td>\n",
       "      <td>8 GB RAM | 128 GB ROM</td>\n",
       "      <td>16.36 cm (6.44 inch) Full HD+ Display</td>\n",
       "      <td>48MP + 8MP | 32MP + 8MP Dual Front Camera</td>\n",
       "      <td>4115 mAh Battery</td>\n",
       "      <td>₹24,600</td>\n",
       "      <td>https://www.flipkart.com/oneplus-nord-gray-ony...</td>\n",
       "    </tr>\n",
       "    <tr>\n",
       "      <th>22</th>\n",
       "      <td>OnePlus Nord (Blue Marble, 256 GB)</td>\n",
       "      <td>12 GB RAM | 256 GB ROM</td>\n",
       "      <td>16.36 cm (6.44 inch) Full HD+ Display</td>\n",
       "      <td>48MP + 8MP | 32MP + 8MP Dual Front Camera</td>\n",
       "      <td>4115 mAh Battery</td>\n",
       "      <td>₹21,999</td>\n",
       "      <td>https://www.flipkart.com/oneplus-nord-blue-mar...</td>\n",
       "    </tr>\n",
       "    <tr>\n",
       "      <th>23</th>\n",
       "      <td>OnePlus Nord (Blue Marble, 64 GB)</td>\n",
       "      <td>6 GB RAM | 64 GB ROM</td>\n",
       "      <td>16.36 cm (6.44 inch) Full HD+ Display</td>\n",
       "      <td>48MP + 8MP | 32MP + 8MP Dual Front Camera</td>\n",
       "      <td>4115 mAh Battery</td>\n",
       "      <td>₹22,980</td>\n",
       "      <td>https://www.flipkart.com/oneplus-nord-blue-mar...</td>\n",
       "    </tr>\n",
       "  </tbody>\n",
       "</table>\n",
       "</div>"
      ],
      "text/plain": [
       "                                           Brand Name                     RAM  \\\n",
       "0     OnePlus Nord CE 3 Lite 5G (Pastel Lime, 256 GB)   8 GB RAM | 256 GB ROM   \n",
       "1   OnePlus Nord CE 3 Lite 5G (Chromatic Gray, 256...   8 GB RAM | 256 GB ROM   \n",
       "2     OnePlus Nord CE 3 Lite 5G (Pastel Lime, 128 GB)   8 GB RAM | 128 GB ROM   \n",
       "3   OnePlus Nord CE 3 Lite 5G (Chromatic Gray, 128...   8 GB RAM | 128 GB ROM   \n",
       "4   OnePlus Nord CE 3 Lite 5G (Chromatic Gray, 128...   8 GB RAM | 128 GB ROM   \n",
       "5     OnePlus Nord CE 3 Lite 5G (Pastel lime, 256 GB)   8 GB RAM | 256 GB ROM   \n",
       "6   OnePlus Nord CE 3 Lite 5G (Chromatic Gray, 256...   8 GB RAM | 256 GB ROM   \n",
       "7     OnePlus Nord CE 3 Lite 5G (Pastel Lime, 128 GB)   8 GB RAM | 128 GB ROM   \n",
       "8          OnePlus Nord CE3 5G (Grey Shimmer, 128 GB)   8 GB RAM | 128 GB ROM   \n",
       "9            OnePlus Nord CE3 5G (Aqua Surge, 256 GB)  12 GB RAM | 256 GB ROM   \n",
       "10           OnePlus Nord CE3 5G (Aqua Surge, 128 GB)   8 GB RAM | 128 GB ROM   \n",
       "11           OnePlus Nord 3 5G (Tempest Gray, 128 GB)   8 GB RAM | 128 GB ROM   \n",
       "12            OnePlus Nord 3 5G (Misty Green, 128 GB)   8 GB RAM | 128 GB ROM   \n",
       "13            OnePlus Nord 3 5G (Misty Green, 256 GB)  16 GB RAM | 256 GB ROM   \n",
       "14    OnePlus Nord CE 3 Lite 5G (Pastel Lime, 256 GB)   8 GB RAM | 256 GB ROM   \n",
       "15           OnePlus Nord 3 5G (Tempest Gray, 256 GB)  16 GB RAM | 256 GB ROM   \n",
       "16  OnePlus Nord CE 3 Lite 5G (Chromatic Gray, 256...   8 GB RAM | 256 GB ROM   \n",
       "17  OnePlus Nord CE 3 Lite 5G (Chromatic Gray, 128...   8 GB RAM | 128 GB ROM   \n",
       "18         OnePlus Nord CE3 5G (Grey Shimmer, 256 GB)  12 GB RAM | 256 GB ROM   \n",
       "19                 OnePlus N20 SE (JADE WAVE, 128 GB)   4 GB RAM | 128 GB ROM   \n",
       "20                 OnePlus Nord (Blue Marble, 128 GB)   8 GB RAM | 128 GB ROM   \n",
       "21                   OnePlus Nord (Gray Onyx, 128 GB)   8 GB RAM | 128 GB ROM   \n",
       "22                 OnePlus Nord (Blue Marble, 256 GB)  12 GB RAM | 256 GB ROM   \n",
       "23                  OnePlus Nord (Blue Marble, 64 GB)    6 GB RAM | 64 GB ROM   \n",
       "\n",
       "                                  Display  \\\n",
       "0            17.07 cm (6.72 inch) Display   \n",
       "1            17.07 cm (6.72 inch) Display   \n",
       "2            17.07 cm (6.72 inch) Display   \n",
       "3            17.07 cm (6.72 inch) Display   \n",
       "4            17.07 cm (6.72 inch) Display   \n",
       "5            17.07 cm (6.72 inch) Display   \n",
       "6            17.07 cm (6.72 inch) Display   \n",
       "7            17.07 cm (6.72 inch) Display   \n",
       "8             17.02 cm (6.7 inch) Display   \n",
       "9             17.02 cm (6.7 inch) Display   \n",
       "10            17.02 cm (6.7 inch) Display   \n",
       "11  17.12 cm (6.74 inch) Full HD+ Display   \n",
       "12           17.12 cm (6.74 inch) Display   \n",
       "13           17.12 cm (6.74 inch) Display   \n",
       "14           17.07 cm (6.72 inch) Display   \n",
       "15           17.12 cm (6.74 inch) Display   \n",
       "16           17.07 cm (6.72 inch) Display   \n",
       "17           17.07 cm (6.72 inch) Display   \n",
       "18            17.02 cm (6.7 inch) Display   \n",
       "19           16.66 cm (6.56 inch) Display   \n",
       "20  16.36 cm (6.44 inch) Full HD+ Display   \n",
       "21  16.36 cm (6.44 inch) Full HD+ Display   \n",
       "22  16.36 cm (6.44 inch) Full HD+ Display   \n",
       "23  16.36 cm (6.44 inch) Full HD+ Display   \n",
       "\n",
       "                                       Camera           Battery    Price  \\\n",
       "0                           108MP Rear Camera  5000 mAh Battery  ₹20,830   \n",
       "1                           108MP Rear Camera  5000 mAh Battery  ₹20,815   \n",
       "2                           108MP Rear Camera  5000 mAh Battery  ₹19,369   \n",
       "3                           108MP Rear Camera  5000 mAh Battery  ₹19,409   \n",
       "4                           108MP Rear Camera  5000 mAh Battery  ₹19,689   \n",
       "5                           108MP Rear Camera  5000 mAh Battery  ₹21,112   \n",
       "6                           108MP Rear Camera  5000 mAh Battery  ₹21,259   \n",
       "7                           108MP Rear Camera  5000 mAh Battery  ₹19,384   \n",
       "8                            50MP Rear Camera  5000 mAh Battery  ₹24,690   \n",
       "9                            50MP Rear Camera  5000 mAh Battery  ₹28,999   \n",
       "10       50MP Rear Camera | 50MP Front Camera  5000 mAh Battery  ₹24,570   \n",
       "11                           50MP Rear Camera  5000 mAh Battery  ₹29,097   \n",
       "12                           50MP Rear Camera  5000 mAh Battery  ₹28,145   \n",
       "13                           50MP Rear Camera  5000 mAh Battery  ₹36,899   \n",
       "14                          108MP Rear Camera  5000 mAh Battery  ₹21,400   \n",
       "15                           50MP Rear Camera  5000 mAh Battery  ₹35,950   \n",
       "16                          108MP Rear Camera  5000 mAh Battery  ₹21,487   \n",
       "17                          108MP Rear Camera  5000 mAh Battery  ₹19,654   \n",
       "18                           50MP Rear Camera  5000 mAh Battery  ₹24,599   \n",
       "19                           50MP Rear Camera  5000 mAh Battery  ₹15,970   \n",
       "20  48MP + 8MP | 32MP + 8MP Dual Front Camera  4115 mAh Battery  ₹24,790   \n",
       "21  48MP + 8MP | 32MP + 8MP Dual Front Camera  4115 mAh Battery  ₹24,600   \n",
       "22  48MP + 8MP | 32MP + 8MP Dual Front Camera  4115 mAh Battery  ₹21,999   \n",
       "23  48MP + 8MP | 32MP + 8MP Dual Front Camera  4115 mAh Battery  ₹22,980   \n",
       "\n",
       "                                          Product Url  \n",
       "0   https://www.flipkart.com/oneplus-nord-ce-3-lit...  \n",
       "1   https://www.flipkart.com/oneplus-nord-ce-3-lit...  \n",
       "2   https://www.flipkart.com/oneplus-nord-ce-3-lit...  \n",
       "3   https://www.flipkart.com/oneplus-nord-ce-3-lit...  \n",
       "4   https://www.flipkart.com/oneplus-nord-ce-3-lit...  \n",
       "5   https://www.flipkart.com/oneplus-nord-ce-3-lit...  \n",
       "6   https://www.flipkart.com/oneplus-nord-ce-3-lit...  \n",
       "7   https://www.flipkart.com/oneplus-nord-ce-3-lit...  \n",
       "8   https://www.flipkart.com/oneplus-nord-ce3-5g-g...  \n",
       "9   https://www.flipkart.com/oneplus-nord-ce3-5g-a...  \n",
       "10  https://www.flipkart.com/oneplus-nord-ce3-5g-a...  \n",
       "11  https://www.flipkart.com/oneplus-nord-3-5g-tem...  \n",
       "12  https://www.flipkart.com/oneplus-nord-3-5g-mis...  \n",
       "13  https://www.flipkart.com/oneplus-nord-3-5g-mis...  \n",
       "14  https://www.flipkart.com/oneplus-nord-ce-3-lit...  \n",
       "15  https://www.flipkart.com/oneplus-nord-3-5g-tem...  \n",
       "16  https://www.flipkart.com/oneplus-nord-ce-3-lit...  \n",
       "17  https://www.flipkart.com/oneplus-nord-ce-3-lit...  \n",
       "18  https://www.flipkart.com/oneplus-nord-ce3-5g-g...  \n",
       "19  https://www.flipkart.com/oneplus-n20-se-jade-w...  \n",
       "20  https://www.flipkart.com/oneplus-nord-blue-mar...  \n",
       "21  https://www.flipkart.com/oneplus-nord-gray-ony...  \n",
       "22  https://www.flipkart.com/oneplus-nord-blue-mar...  \n",
       "23  https://www.flipkart.com/oneplus-nord-blue-mar...  "
      ]
     },
     "execution_count": 209,
     "metadata": {},
     "output_type": "execute_result"
    }
   ],
   "source": [
    "df=pd.DataFrame({\"Brand Name\":Brand_Name,\"RAM\":RAM,\"Display\":Display,\"Camera\":Camera,\"Battery\":Battery,\"Price\":Price,\"Product Url\":Product_url})\n",
    "df"
   ]
  },
  {
   "cell_type": "code",
   "execution_count": 210,
   "id": "10fe7353",
   "metadata": {},
   "outputs": [],
   "source": [
    "#Q5 Ans:-"
   ]
  },
  {
   "cell_type": "code",
   "execution_count": 133,
   "id": "996b7b7b",
   "metadata": {},
   "outputs": [],
   "source": [
    "driver=webdriver.Chrome()"
   ]
  },
  {
   "cell_type": "code",
   "execution_count": 134,
   "id": "f78d9aec",
   "metadata": {},
   "outputs": [],
   "source": [
    "driver.get('https://maps.google.com/')"
   ]
  },
  {
   "cell_type": "code",
   "execution_count": 135,
   "id": "38f30b40",
   "metadata": {},
   "outputs": [],
   "source": [
    "Product=driver.find_element(By.XPATH,\"/html/body/div[1]/div[3]/div[8]/div[3]/div[1]/div[1]/div/div[2]/form/input\")\n",
    "Product.send_keys(\"Nagpur\")"
   ]
  },
  {
   "cell_type": "code",
   "execution_count": 136,
   "id": "21275ae5",
   "metadata": {},
   "outputs": [],
   "source": [
    "Search=driver.find_element(By.XPATH,\"/html/body/div[1]/div[3]/div[8]/div[3]/div[1]/div[1]/div/div[2]/div[1]\")\n",
    "Search.click()"
   ]
  },
  {
   "cell_type": "code",
   "execution_count": 139,
   "id": "313e53dd",
   "metadata": {},
   "outputs": [
    {
     "name": "stdout",
     "output_type": "stream",
     "text": [
      "URL Extracted: https://www.google.com/maps/place/Nagpur,+Maharashtra/@21.161006,78.9076954,11z/data=!4m6!3m5!1s0x3bd4c0a5a31faf13:0x19b37d06d0bb3e2b!8m2!3d21.1458004!4d79.0881546!16zL20vMDJjOTht?entry=ttu\n",
      "Latitude = 21.161006, Longitude = 78.9076954\n"
     ]
    }
   ],
   "source": [
    "import re \n",
    "try:\n",
    "    url_string=driver.current_url\n",
    "    print(\"URL Extracted:\", url_string)\n",
    "    lat_lng=re.findall(r'@(.*)data',url_string)\n",
    "    if len(lat_lng):\n",
    "        lat_lng_list = lat_lng[0].split(\",\")\n",
    "        if len(lat_lng_list)>=2:\n",
    "            lat = lat_lng_list[0]\n",
    "            lng = lat_lng_list[1]\n",
    "        print(\"Latitude = {}, Longitude = {}\".format(lat, lng))\n",
    "\n",
    "except Exception as e:\n",
    "        print(\"Error: \", str(e))"
   ]
  },
  {
   "cell_type": "code",
   "execution_count": 140,
   "id": "82645456",
   "metadata": {},
   "outputs": [],
   "source": [
    "#Q6 Ans:-"
   ]
  },
  {
   "cell_type": "code",
   "execution_count": 220,
   "id": "200afd7c",
   "metadata": {},
   "outputs": [],
   "source": [
    "driver =webdriver.Chrome()"
   ]
  },
  {
   "cell_type": "code",
   "execution_count": 221,
   "id": "2ec6ca32",
   "metadata": {},
   "outputs": [],
   "source": [
    "driver.get('https://www.digit.in/')"
   ]
  },
  {
   "cell_type": "code",
   "execution_count": 224,
   "id": "6a120c22",
   "metadata": {},
   "outputs": [],
   "source": [
    "Search=driver.find_element(By.XPATH,\"/html/body/div[4]/div/ul/li[4]\")\n",
    "Search.click()"
   ]
  },
  {
   "cell_type": "code",
   "execution_count": 225,
   "id": "a945b790",
   "metadata": {},
   "outputs": [],
   "source": [
    "Search=driver.find_element(By.XPATH,\"/html/body/div[1]/div[3]/div/div[2]/div[1]/div[3]/div[5]/p\")\n",
    "Search.click()"
   ]
  },
  {
   "cell_type": "code",
   "execution_count": 226,
   "id": "ade40e33",
   "metadata": {},
   "outputs": [],
   "source": [
    "Brands=[]\n",
    "Products_Description=[]\n",
    "Specification=[]\n",
    "Price=[]"
   ]
  },
  {
   "cell_type": "code",
   "execution_count": 230,
   "id": "ff18a665",
   "metadata": {},
   "outputs": [],
   "source": [
    "brand=driver.find_elements(By.CLASS_NAME,'font130 mt0 mb10 mobilesblockdisplay')\n",
    "for i in brand:\n",
    "    brand=i.text\n",
    "    Brands.append(brand)"
   ]
  },
  {
   "cell_type": "code",
   "execution_count": null,
   "id": "707625bf",
   "metadata": {},
   "outputs": [],
   "source": []
  }
 ],
 "metadata": {
  "kernelspec": {
   "display_name": "Python 3 (ipykernel)",
   "language": "python",
   "name": "python3"
  },
  "language_info": {
   "codemirror_mode": {
    "name": "ipython",
    "version": 3
   },
   "file_extension": ".py",
   "mimetype": "text/x-python",
   "name": "python",
   "nbconvert_exporter": "python",
   "pygments_lexer": "ipython3",
   "version": "3.10.9"
  }
 },
 "nbformat": 4,
 "nbformat_minor": 5
}
